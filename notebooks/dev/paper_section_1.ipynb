{
 "cells": [
  {
   "cell_type": "markdown",
   "metadata": {},
   "source": [
    "# Machines of healing grace?\n",
    "\n",
    "Code with basic analysis and results from the AI v Covid paper\n",
    "\n",
    "**Sections**\n",
    "\n",
    "1. **Descriptive analysis**\n",
    "  * How much Covid and AI activity do we detect in our data sources?\n",
    "  * Is AI over or underrepresented in Covid research\n",
    "  * How has AI activity evolved over time?\n",
    "2. Topical analysis\n",
    "  * What is the topical composition of Covid research and in what areas is AI focusing?\n",
    "  * What are some examples of AI research to tackle Covid?\n",
    "  * How has it evolved over time?\n",
    "3. Geography\n",
    "  * Where is AI research happening?\n",
    "  * Who is doing it?\n",
    "  * Do we find any differences in the topics that different countries focus on?\n",
    "  * What reflects whether a country focuses on Covid research? Demand pull or supply push?\n",
    "4. Knowledge base\n",
    "  * On what topics do AI researchers draw on?\n",
    "4. Analysis of diffusion\n",
    "  * What determines the focus of AI researchers on particular topics?\n",
    "  * Does Covid oriented-AI research reflect the composition of the broader field? \n",
    "  * What researchers have been attracted to AI research and why?\n",
    "  "
   ]
  },
  {
   "cell_type": "markdown",
   "metadata": {},
   "source": [
    "## Preamble"
   ]
  },
  {
   "cell_type": "code",
   "execution_count": null,
   "metadata": {},
   "outputs": [],
   "source": [
    "%run ../notebook_preamble.ipy"
   ]
  },
  {
   "cell_type": "code",
   "execution_count": null,
   "metadata": {},
   "outputs": [],
   "source": [
    "import altair as alt\n",
    "from altair import expr, datum\n",
    "from altair_saver import save\n",
    "from toolz.curried import *"
   ]
  },
  {
   "cell_type": "code",
   "execution_count": null,
   "metadata": {},
   "outputs": [],
   "source": [
    "FIG_PATH = f\"{project_dir}/reports/figures/report_revised\"\n",
    "SRC_PATH = f\"{project_dir}/data/processed/ai_research\"\n"
   ]
  },
  {
   "cell_type": "code",
   "execution_count": null,
   "metadata": {},
   "outputs": [],
   "source": [
    "pd.options.mode.chained_assignment = None"
   ]
  },
  {
   "cell_type": "code",
   "execution_count": null,
   "metadata": {},
   "outputs": [],
   "source": [
    "def save_fig(figure,name):\n",
    "    save(figure,f'{FIG_PATH}/{name}.png',method='selenium',\n",
    "         webdriver=DRIVER,scale_factor=3)\n",
    "    \n",
    "def preview(x):\n",
    "    print(x.head())\n",
    "    print(x.shape)\n",
    "    return(x)"
   ]
  },
  {
   "cell_type": "markdown",
   "metadata": {},
   "source": [
    "## 1. Read data"
   ]
  },
  {
   "cell_type": "code",
   "execution_count": null,
   "metadata": {},
   "outputs": [],
   "source": [
    "xiv = pd.read_csv(f\"{SRC_PATH}/xiv_papers_labelled.csv\").pipe(preview)"
   ]
  },
  {
   "cell_type": "code",
   "execution_count": null,
   "metadata": {},
   "outputs": [],
   "source": [
    "xiv.columns = [x.lower() for x in xiv.columns]"
   ]
  },
  {
   "cell_type": "markdown",
   "metadata": {},
   "source": [
    "## 2. Analysis"
   ]
  },
  {
   "cell_type": "code",
   "execution_count": null,
   "metadata": {},
   "outputs": [],
   "source": [
    "print(xiv['is_ai'].mean()*100)\n",
    "print(xiv['is_covid'].mean()*100)\n",
    "\n",
    "print(100*np.mean(xiv['is_covid'] & xiv['is_ai']))"
   ]
  },
  {
   "cell_type": "code",
   "execution_count": null,
   "metadata": {},
   "outputs": [],
   "source": [
    "#xiv['date'] = xiv['created'].apply(lambda x: np.datetime64(datetime.datetime.strptime(x,\"%Y-%m-%d\")))\n",
    "\n",
    "xiv['date'] = pd.to_datetime(xiv['created'])"
   ]
  },
  {
   "cell_type": "code",
   "execution_count": null,
   "metadata": {},
   "outputs": [],
   "source": [
    "#We explore some of the trends in sources. It looks like the data collections are misaligned\n",
    "s = xiv.groupby(['date','article_source']).size().reset_index(name='count')\n",
    "s = s.loc[pd.to_datetime(s['date'])>datetime.datetime(2020,1,1)]\n",
    "\n",
    "tr = (alt\n",
    " .Chart(s)\n",
    " .transform_window(rolling='mean(count)',frame=[-10,10],groupby=['article_source'])\n",
    " .mark_line()\n",
    " .encode(x='date',y='count',row='article_source')).properties(height=100)\n",
    "\n",
    "save_fig(tr,\"test_trends\")\n",
    "tr"
   ]
  },
  {
   "cell_type": "code",
   "execution_count": null,
   "metadata": {},
   "outputs": [],
   "source": [
    "xiv.groupby('article_source')['date'].max()"
   ]
  },
  {
   "cell_type": "code",
   "execution_count": null,
   "metadata": {},
   "outputs": [],
   "source": [
    "xiv = xiv.loc[pd.to_datetime(xiv['date'])<= datetime.datetime(2020,5,19)]"
   ]
  },
  {
   "cell_type": "code",
   "execution_count": null,
   "metadata": {},
   "outputs": [],
   "source": [
    "xiv_recent = xiv.query(\"year > 2016\")"
   ]
  },
  {
   "cell_type": "code",
   "execution_count": null,
   "metadata": {},
   "outputs": [],
   "source": [
    "xiv_daily = xiv_recent['date'].value_counts().rename('all_xiv')"
   ]
  },
  {
   "cell_type": "code",
   "execution_count": null,
   "metadata": {},
   "outputs": [],
   "source": [
    "queries = [\"is_covid == 1\",\"is_ai == 1\",\"(is_covid ==1) & (is_ai ==1)\"]\n",
    "names = ['covid','ai','covid_ai']\n",
    "\n",
    "all_series = pd.concat([xiv_daily,\n",
    "    pd.concat([xiv_recent.query(q)['date'].value_counts().rename(n) for n,q in zip(names,queries)],axis=1)],axis=1).fillna(0)\n",
    "\n",
    "all_series_long = all_series.reset_index(drop=False).melt(id_vars='index')\n",
    "\n",
    "all_series_long['index'] = pd.to_datetime(all_series_long['index'])\n",
    "\n"
   ]
  },
  {
   "cell_type": "code",
   "execution_count": null,
   "metadata": {},
   "outputs": [],
   "source": [
    "### Representation\n",
    "\n",
    "xiv['covid_ai'] = xiv['is_covid'] & xiv['is_ai']\n",
    "\n",
    "cov_ai_ct = pd.DataFrame(xiv.query('year == 2020').groupby(['is_covid','is_ai']).size().reset_index(drop=False).pivot(\n",
    "    index='is_covid',columns='is_ai',values=0).apply(lambda x: x/x.sum(),axis=1).reset_index(drop=False)).melt(id_vars='is_covid')\n"
   ]
  },
  {
   "cell_type": "code",
   "execution_count": null,
   "metadata": {},
   "outputs": [],
   "source": [
    "base = (alt.Chart(cov_ai_ct)\n",
    " .transform_calculate(value = 100*alt.datum.value)\n",
    " .mark_bar().encode(y='is_covid:N',\n",
    "                    x=alt.X('value:Q',title='% of all papers in category')))\n",
    "\n",
    "bar = base.encode(color='is_ai:N')\n",
    "\n",
    "text = (base.mark_text(align='left',color='white',dx=3)\n",
    "        .transform_filter(alt.datum.is_ai==1)\n",
    "        .transform_calculate(my_text = expr.format(datum.value,\".2f\"))\n",
    "        .encode(text=\"my_text:Q\"\n",
    "                #alt.Text(\"value:Q\",format=\".2f\"))\n",
    "               ))\n",
    "\n",
    "save_fig(bar+text,'fig_1_representation')\n",
    "\n",
    "(bar+text)"
   ]
  },
  {
   "cell_type": "code",
   "execution_count": null,
   "metadata": {},
   "outputs": [],
   "source": [
    "cov_ai_ct['value'][3]/cov_ai_ct['value'][2]"
   ]
  },
  {
   "cell_type": "code",
   "execution_count": null,
   "metadata": {},
   "outputs": [],
   "source": [
    "#Trends"
   ]
  },
  {
   "cell_type": "code",
   "execution_count": null,
   "metadata": {},
   "outputs": [],
   "source": [
    "norm = 100*pd.concat([all_series[['covid']].apply(lambda x: x/all_series['all_xiv']),\n",
    "                     all_series['covid_ai']/all_series['ai'],\n",
    "                     all_series['covid_ai']/all_series['covid']],axis=1).rename(\n",
    "columns={'covid':'Covid-19 (% all)','covid_ai':'Covid-19 AI papers (% all)',0:'Covid-19 AI papers (% AI)',\n",
    "         1:'Covid-19 AI papers (% Covid)'})\n",
    "norm_rec = norm.loc[pd.to_datetime(norm.index)>datetime.datetime(2019,11,1)].reset_index(drop=False).melt(id_vars='index')"
   ]
  },
  {
   "cell_type": "code",
   "execution_count": null,
   "metadata": {},
   "outputs": [],
   "source": [
    "lch = (alt.Chart(norm_rec)\n",
    " .transform_window(rolling_mean = 'mean(value)',frame=[-7,7],groupby=['variable'])\n",
    " .mark_line().encode(x=alt.X('index',title=''),\n",
    "                     y=alt.Y('rolling_mean:Q',title=''),\n",
    "                             row='variable').resolve_scale(y='independent')\n",
    " .properties(height=110,width=600))\n",
    "\n",
    "save_fig(lch,\"fig_2_evolution\")\n",
    "\n",
    "lch"
   ]
  },
  {
   "cell_type": "code",
   "execution_count": null,
   "metadata": {},
   "outputs": [],
   "source": [
    "# By data source\n",
    "\n",
    "source_shares = 100*pd.concat(\n",
    "    [xiv_recent.query(q)['article_source'].value_counts(normalize=True).rename(n) for n,q in zip(names,queries)],axis=1)\n",
    "\n",
    "source_shares_long = source_shares.reset_index(drop=False).melt(id_vars=['index'])"
   ]
  },
  {
   "cell_type": "code",
   "execution_count": null,
   "metadata": {},
   "outputs": [],
   "source": [
    "base = alt.Chart(\n",
    "    source_shares_long).mark_bar().encode(y=alt.Y('variable',title='Category'),\n",
    "                                          x=alt.X('value',title='% of papers in category'),\n",
    "                                          color=alt.Color('index:N',title='Source'))\n",
    "\n",
    "\n",
    "\n",
    "source_prop = prop.properties(width=400,height=100)\n",
    "\n",
    "save_fig(source_prop,'fig_3_source_shares')\n",
    "\n",
    "source_prop"
   ]
  },
  {
   "cell_type": "code",
   "execution_count": null,
   "metadata": {},
   "outputs": [],
   "source": [
    "sum(xiv['is_ai'])"
   ]
  },
  {
   "cell_type": "code",
   "execution_count": null,
   "metadata": {},
   "outputs": [],
   "source": []
  }
 ],
 "metadata": {
  "language_info": {
   "name": "python",
   "pygments_lexer": "ipython3"
  }
 },
 "nbformat": 4,
 "nbformat_minor": 4
}
