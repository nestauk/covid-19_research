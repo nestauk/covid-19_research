{
 "cells": [
  {
   "cell_type": "markdown",
   "metadata": {},
   "source": [
    "# Machines of healing grace?\n",
    "\n",
    "Code with basic analysis and results from the AI v Covid paper\n",
    "\n",
    "**Sections**\n",
    "\n",
    "1. **Descriptive analysis**\n",
    "  * How much Covid and AI activity do we detect in our data sources?\n",
    "  * Is AI over or underrepresented in Covid research\n",
    "  * How has AI activity evolved over time?\n",
    "2. Topical analysis\n",
    "  * What is the topical composition of Covid research and in what areas is AI focusing?\n",
    "  * What are some examples of AI research to tackle Covid?\n",
    "  * How has it evolved over time?\n",
    "3. Geography\n",
    "  * Where is AI research happening?\n",
    "  * Who is doing it?\n",
    "  * Do we find any differences in the topics that different countries focus on?\n",
    "  * What reflects whether a country focuses on Covid research? Demand pull or supply push?\n",
    "4. Knowledge base\n",
    "  * On what topics do AI researchers draw on?\n",
    "4. Analysis of diffusion\n",
    "  * What determines the focus of AI researchers on particular topics?\n",
    "  * Does Covid oriented-AI research reflect the composition of the broader field? \n",
    "  * What researchers have been attracted to AI research and why?\n",
    "  "
   ]
  },
  {
   "cell_type": "markdown",
   "metadata": {},
   "source": [
    "## Preamble"
   ]
  },
  {
   "cell_type": "code",
   "execution_count": null,
   "metadata": {},
   "outputs": [],
   "source": [
    "%run ../notebook_preamble.ipy"
   ]
  },
  {
   "cell_type": "code",
   "execution_count": null,
   "metadata": {},
   "outputs": [],
   "source": [
    "import altair as alt\n",
    "from altair_saver import save\n",
    "from toolz.curried import *"
   ]
  },
  {
   "cell_type": "code",
   "execution_count": null,
   "metadata": {},
   "outputs": [],
   "source": [
    "FIG_PATH = f\"{project_dir}/reports/figures/report_1\"\n",
    "SRC_PATH = f\"{project_dir}/data/processed/ai_research\"\n"
   ]
  },
  {
   "cell_type": "code",
   "execution_count": null,
   "metadata": {},
   "outputs": [],
   "source": [
    "pd.options.mode.chained_assignment = None"
   ]
  },
  {
   "cell_type": "code",
   "execution_count": null,
   "metadata": {},
   "outputs": [],
   "source": [
    "def save_fig(figure,name):\n",
    "    save(figure,f'{FIG_PATH}/{name}.png',method='selenium',\n",
    "         webdriver=DRIVER,scale_factor=3)\n",
    "    \n",
    "def preview(x):\n",
    "    print(x.head())\n",
    "    print(x.shape)\n",
    "    return(x)"
   ]
  },
  {
   "cell_type": "markdown",
   "metadata": {},
   "source": [
    "## 1. Read data"
   ]
  },
  {
   "cell_type": "code",
   "execution_count": null,
   "metadata": {},
   "outputs": [],
   "source": [
    "xiv = pd.read_csv(f\"{SRC_PATH}/xiv_papers_labelled.csv\").pipe(preview)"
   ]
  },
  {
   "cell_type": "code",
   "execution_count": null,
   "metadata": {},
   "outputs": [],
   "source": [
    "xiv.columns = [x.lower() for x in xiv.columns]"
   ]
  },
  {
   "cell_type": "markdown",
   "metadata": {},
   "source": [
    "## 2. Analysis"
   ]
  },
  {
   "cell_type": "code",
   "execution_count": null,
   "metadata": {},
   "outputs": [],
   "source": [
    "alt.data_transformers.disable_max_rows()"
   ]
  },
  {
   "cell_type": "code",
   "execution_count": null,
   "metadata": {},
   "outputs": [],
   "source": [
    "#xiv['date'] = xiv['created'].apply(lambda x: np.datetime64(datetime.datetime.strptime(x,\"%Y-%m-%d\")))\n",
    "\n",
    "xiv['date'] = pd.to_datetime(xiv['created'])"
   ]
  },
  {
   "cell_type": "code",
   "execution_count": null,
   "metadata": {},
   "outputs": [],
   "source": [
    "xiv_recent = xiv.query(\"year > 2016\")"
   ]
  },
  {
   "cell_type": "code",
   "execution_count": null,
   "metadata": {},
   "outputs": [],
   "source": [
    "xiv_daily = xiv_recent['date'].value_counts().rename('all_xiv')"
   ]
  },
  {
   "cell_type": "code",
   "execution_count": null,
   "metadata": {},
   "outputs": [],
   "source": [
    "queries = [\"is_covid == 1\",\"is_ai == 1\",\"(is_covid ==1) & (is_ai ==1)\"]\n",
    "names = ['covid','ai','covid_ai']\n",
    "\n",
    "all_series = pd.concat([xiv_daily,\n",
    "    pd.concat([xiv_recent.query(q)['date'].value_counts().rename(n) for n,q in zip(names,queries)],axis=1)],axis=1).fillna(0)\n",
    "\n",
    "all_series_long = all_series.reset_index(drop=False).melt(id_vars='index')"
   ]
  },
  {
   "cell_type": "code",
   "execution_count": null,
   "metadata": {},
   "outputs": [],
   "source": [
    "sort_variables = ['covid','ai','covid_ai','all_xiv']\n",
    "\n",
    "plot_all = (alt\n",
    "           .Chart(all_series_long)\n",
    "           .mark_line()\n",
    "           .encode(row=alt.Row('variable:O'),\n",
    "                   x='yearmonth(index)',y='mean(value)',\n",
    "              color='variable'))\n",
    "\n",
    "plot_all.resolve_scale(y='independent').properties(width=150,height=100)"
   ]
  },
  {
   "cell_type": "code",
   "execution_count": null,
   "metadata": {},
   "outputs": [],
   "source": [
    "all_series_long_norm = (100*all_series.apply(lambda x: x/x.sum())).reset_index(drop=False).melt(id_vars='index')\n",
    "\n",
    "plot_all_norm = (alt\n",
    "           .Chart(all_series_long_norm)\n",
    "           .mark_line()\n",
    "           .encode(x=alt.X('yearmonth(index)',title=''),\n",
    "                   y=alt.Y('mean(value)',title='Share of all papers in category'),\n",
    "                   color=alt.Color('variable',title='Category')))\n",
    "\n",
    "times_norm = plot_all_norm.properties(width=300,height=200)\n",
    "\n",
    "save_fig(times_norm,\"fig_1_trends\")\n",
    "\n",
    "times_norm"
   ]
  },
  {
   "cell_type": "code",
   "execution_count": null,
   "metadata": {},
   "outputs": [],
   "source": [
    "### Representation\n",
    "\n",
    "rep = pd.concat([xiv_recent['is_ai'].value_counts(normalize=True),\n",
    "          xiv_recent.query('is_covid == 1')['is_ai'].value_counts(normalize=True)],axis=1).loc[1]\n",
    "\n",
    "rep.index = ['share_of_all','share_of_covid']\n",
    "rep"
   ]
  },
  {
   "cell_type": "code",
   "execution_count": null,
   "metadata": {},
   "outputs": [],
   "source": [
    "# By data source\n",
    "\n",
    "source_shares = 100*pd.concat(\n",
    "    [xiv_recent.query(q)['article_source'].value_counts(normalize=True).rename(n) for n,q in zip(names,queries)],axis=1)\n",
    "\n",
    "source_shares_long = source_shares.reset_index(drop=False).melt(id_vars=['index'])"
   ]
  },
  {
   "cell_type": "code",
   "execution_count": null,
   "metadata": {},
   "outputs": [],
   "source": [
    "prop = alt.Chart(\n",
    "    source_shares_long).mark_bar().encode(y=alt.Y('variable',title='Category'),\n",
    "                                          x=alt.X('value',title='% of papers in category'),\n",
    "                                          color=alt.Color('index:N',title='Source'))\n",
    "source_prop = prop.properties(width=200,height=100)\n",
    "\n",
    "save_fig(source_prop,'fig_2_source_shares')"
   ]
  },
  {
   "cell_type": "code",
   "execution_count": null,
   "metadata": {},
   "outputs": [],
   "source": []
  }
 ],
 "metadata": {
  "language_info": {
   "name": "python",
   "pygments_lexer": "ipython3"
  }
 },
 "nbformat": 4,
 "nbformat_minor": 4
}
