{
 "cells": [
  {
   "cell_type": "markdown",
   "metadata": {},
   "source": [
    "# Machines of healing grace?\n",
    "\n",
    "Code with basic analysis and results from the AI v Covid paper\n",
    "\n",
    "**Sections**\n",
    "\n",
    "1. Descriptive analysis\n",
    "  * How much Covid and AI activity do we detect in our data sources?\n",
    "  * Is AI over or underrepresented in Covid research\n",
    "  * How has AI activity evolved over time?\n",
    "2. Topical analysis\n",
    "  * What is the topical composition of Covid research and in what areas is AI focusing?\n",
    "  * What are some examples of AI research to tackle Covid?\n",
    "  * How has it evolved over time?\n",
    "3. Geography\n",
    "  * Where is AI research happening?\n",
    "  * Who is doing it?\n",
    "  * Do we find any differences in the topics that different countries focus on?\n",
    "  * What reflects whether a country focuses on Covid research? Demand pull or supply push?\n",
    "4. Knowledge base\n",
    "  * On what topics do AI researchers draw on?\n",
    "4. **Analysis of quality**\n",
    "  * What are the levels of quality (impact) of Covid AI research papers?\n",
    "  * What are the levels of experience of AI researchers focusing on Covid?\n",
    "  * How does the above differ between AI research clusters?\n",
    "  * Could we look at other data sources such as altmetrics?"
   ]
  },
  {
   "cell_type": "markdown",
   "metadata": {},
   "source": [
    "## Preamble"
   ]
  },
  {
   "cell_type": "code",
   "execution_count": null,
   "metadata": {},
   "outputs": [],
   "source": [
    "%run ../notebook_preamble.ipy"
   ]
  },
  {
   "cell_type": "code",
   "execution_count": null,
   "metadata": {},
   "outputs": [],
   "source": [
    "import altair as alt\n",
    "from altair_saver import save\n",
    "from toolz.curried import *\n",
    "import random\n",
    "import geopandas as gp"
   ]
  },
  {
   "cell_type": "code",
   "execution_count": null,
   "metadata": {},
   "outputs": [],
   "source": [
    "FIG_PATH = f\"{project_dir}/reports/figures/report_1\"\n",
    "SRC_PATH = f\"{project_dir}/data/processed/ai_research\"\n"
   ]
  },
  {
   "cell_type": "code",
   "execution_count": null,
   "metadata": {},
   "outputs": [],
   "source": [
    "pd.options.mode.chained_assignment = None"
   ]
  },
  {
   "cell_type": "code",
   "execution_count": null,
   "metadata": {},
   "outputs": [],
   "source": [
    "def save_fig(figure,name):\n",
    "    save(figure,f'{FIG_PATH}/{name}.png',method='selenium',\n",
    "         webdriver=DRIVER,scale_factor=3)\n",
    "    \n",
    "def preview(x):\n",
    "    print(x.head())\n",
    "    print(x.shape)\n",
    "    return(x)"
   ]
  },
  {
   "cell_type": "code",
   "execution_count": null,
   "metadata": {},
   "outputs": [],
   "source": [
    "def citation_distr(_vector,bins=[0,1,2,3,5,10,20,100,1000]):\n",
    "    \n",
    "    bins_ = bins.copy()\n",
    "    \n",
    "    #if max(_vector)>bins[-1]:\n",
    "    #    bins_.append(max(_vector))\n",
    "    \n",
    "    cut = pd.cut(_vector,bins=bins_,right=False,include_lowest=True)\n",
    "    \n",
    "    out = cut.value_counts(normalize=True)\n",
    "    out.index= ['_'.join([x.strip() for x in re.sub('\\[|\\)','',str(inter)).split(',')]) for inter in out.index]\n",
    "    \n",
    "    return(out)\n",
    "    "
   ]
  },
  {
   "cell_type": "markdown",
   "metadata": {},
   "source": [
    "\n",
    "## 1. Read data"
   ]
  },
  {
   "cell_type": "code",
   "execution_count": null,
   "metadata": {},
   "outputs": [],
   "source": [
    "#All arXiv data\n",
    "xiv = pd.read_csv(f\"{SRC_PATH}/xiv_papers_labelled.csv\",dtype={'id':str}).pipe(preview)"
   ]
  },
  {
   "cell_type": "code",
   "execution_count": null,
   "metadata": {},
   "outputs": [],
   "source": [
    "xiv.columns = [x.lower() for x in xiv.columns]"
   ]
  },
  {
   "cell_type": "code",
   "execution_count": null,
   "metadata": {},
   "outputs": [],
   "source": [
    "ai_ids = set(xiv.loc[xiv['is_ai']==True]['id'])"
   ]
  },
  {
   "cell_type": "code",
   "execution_count": null,
   "metadata": {},
   "outputs": [],
   "source": [
    "#Create a cov df\n",
    "\n",
    "cov = xiv.query(\"is_covid == True\").reset_index(drop=True).pipe(preview)"
   ]
  },
  {
   "cell_type": "code",
   "execution_count": null,
   "metadata": {},
   "outputs": [],
   "source": [
    "#All topics\n",
    "cluster_memberships = pd.read_csv(f\"{project_dir}/data/processed/ai_research/paper_cluster.csv\",header=None)\n",
    "cluster_lookup = cluster_memberships.set_index(0).to_dict()[1]"
   ]
  },
  {
   "cell_type": "code",
   "execution_count": null,
   "metadata": {},
   "outputs": [],
   "source": [
    "# Load the author data HERE (or recalculate myself)"
   ]
  },
  {
   "cell_type": "markdown",
   "metadata": {},
   "source": [
    "## 2. Analyse data"
   ]
  },
  {
   "cell_type": "markdown",
   "metadata": {},
   "source": [
    "### Compare citations covid vs non covid"
   ]
  },
  {
   "cell_type": "code",
   "execution_count": null,
   "metadata": {},
   "outputs": [],
   "source": [
    "# How do the levels of citations for Covid and non-Covid research compare?"
   ]
  },
  {
   "cell_type": "code",
   "execution_count": null,
   "metadata": {},
   "outputs": [],
   "source": [
    "xiv_2020 = xiv.query('year == 2020')"
   ]
  },
  {
   "cell_type": "code",
   "execution_count": null,
   "metadata": {},
   "outputs": [],
   "source": [
    "xiv_2020.groupby(['is_covid','is_ai'])['citation_count'].mean().reset_index(drop=False).pivot_table(\n",
    "index='is_covid',columns='is_ai')"
   ]
  },
  {
   "cell_type": "code",
   "execution_count": null,
   "metadata": {},
   "outputs": [],
   "source": [
    "cit_groups = xiv_2020.groupby(\n",
    "    ['is_covid','is_ai','article_source'])['citation_count'].mean().reset_index().pipe(preview)\n",
    "\n",
    "alt.Chart(cit_groups).mark_bar().encode(x='is_covid:N',y='citation_count',\n",
    "                                        column='is_ai:N',\n",
    "                                        row='article_source').properties(height=100,width=50)"
   ]
  },
  {
   "cell_type": "code",
   "execution_count": null,
   "metadata": {},
   "outputs": [],
   "source": [
    "xiv_cit_distrs = xiv_2020.groupby(\n",
    "    ['is_covid','is_ai','article_source'])['citation_count'].apply(lambda x:\n",
    "                                                                  citation_distr(x)).reset_index(\n",
    "    drop=False).pipe(preview)"
   ]
  },
  {
   "cell_type": "code",
   "execution_count": null,
   "metadata": {},
   "outputs": [],
   "source": [
    "int_lookup = {'0_1':'0: 0-1', '100_1000':'7: 10-1000', '10_20':'5: 10-20', '1_2':'1: 1-2', \n",
    "              '20_100':'6: 20-100', '2_3':'2: 2-3', \n",
    "              '3_5':'3: 3-5', '5_10':'4: 5-10'}\n",
    "xiv_cit_distrs['int_sorted'] = xiv_cit_distrs['level_3'].map(int_lookup)"
   ]
  },
  {
   "cell_type": "code",
   "execution_count": null,
   "metadata": {},
   "outputs": [],
   "source": [
    "b = (alt\n",
    " .Chart(xiv_cit_distrs)\n",
    " .mark_bar(stroke='black',strokeWidth=0.5)\n",
    " .encode(x='is_covid:N',y='citation_count',\n",
    "         color=alt.Color(\n",
    "             'int_sorted:O',scale=alt.Scale(scheme='orangered')),\n",
    "             column='article_source',row='is_ai:N'))\n",
    "\n",
    "b = b.properties(height=75,width=60).resolve_scale(color='shared')\n",
    "\n",
    "save_fig(b,\"fig_10_citation_comp\")\n",
    "\n",
    "b"
   ]
  },
  {
   "cell_type": "code",
   "execution_count": null,
   "metadata": {},
   "outputs": [],
   "source": [
    "#Citations by cluster\n",
    "\n",
    "xiv['cluster'] = xiv['id'].map(cluster_lookup)\n",
    "cov = xiv.query('is_covid==1').reset_index(drop=True)"
   ]
  },
  {
   "cell_type": "code",
   "execution_count": null,
   "metadata": {},
   "outputs": [],
   "source": [
    "top_ai_clusters = list(cov.query('is_ai==1')['cluster'].value_counts().sort_values(ascending=False)[:12].index)\n",
    "\n",
    "ai_clusters_citation_sorted = list(\n",
    "    cov.loc[cov.cluster.isin(top_ai_clusters)].groupby(\n",
    "    ['cluster','is_ai'])['citation_count'].mean().reset_index(drop=False).query(\"is_ai == 1\").pipe(\n",
    "        preview).sort_values('citation_count',ascending=False)['cluster'])"
   ]
  },
  {
   "cell_type": "code",
   "execution_count": null,
   "metadata": {},
   "outputs": [],
   "source": [
    "cov_clust_cit = cov.groupby(['is_ai','cluster'])['citation_count'].apply(\n",
    "    lambda x: citation_distr(x)).reset_index(drop=False).assign(name_clean = lambda x: x['level_2'].map(\n",
    "    int_lookup)).pipe(preview)"
   ]
  },
  {
   "cell_type": "markdown",
   "metadata": {},
   "source": [
    "### Compare citations between clusters"
   ]
  },
  {
   "cell_type": "code",
   "execution_count": null,
   "metadata": {},
   "outputs": [],
   "source": [
    "b2 = (alt.Chart(cov_clust_cit)\n",
    " .transform_filter(alt.FieldOneOfPredicate('cluster',ai_clusters_citation_sorted))\n",
    " .mark_bar(stroke='black',strokeWidth=0.5)\n",
    " .encode(x='is_ai:N',\n",
    "         y=alt.Y('citation_count',title=['% of paper in','citation category']),\n",
    "         color=alt.Color('name_clean:O',scale=alt.Scale(scheme='orangered')),\n",
    "         facet=alt.Facet('cluster',sort=ai_clusters_citation_sorted,columns=6))).properties(height=100)\n",
    "\n",
    "save_fig(b2,\"fig_11_citation_cluster\")\n",
    "\n",
    "b2"
   ]
  },
  {
   "cell_type": "markdown",
   "metadata": {},
   "source": [
    "### Compare citations between types of authors"
   ]
  },
  {
   "cell_type": "code",
   "execution_count": null,
   "metadata": {},
   "outputs": [],
   "source": [
    "def get_author_profile(x):\n",
    "    \n",
    "    stats = [len(x),\n",
    "             x['citation_count'].median(),\n",
    "             x['citation_count'].mean(),\n",
    "             2020-x['year'].min()]\n",
    "    return(pd.Series(stats,\n",
    "                     index=['paper_n','citation_median','citation_mean','experience']))\n"
   ]
  },
  {
   "cell_type": "code",
   "execution_count": null,
   "metadata": {},
   "outputs": [],
   "source": [
    "from ast import literal_eval\n",
    "\n",
    "xiv_auth = xiv.dropna(axis=0,subset=['mag_authors'])"
   ]
  },
  {
   "cell_type": "code",
   "execution_count": null,
   "metadata": {},
   "outputs": [],
   "source": [
    "#Extract author ids from author credentials dict\n",
    "xiv_auth['mag_authors'] = xiv_auth['mag_authors'].apply(literal_eval)"
   ]
  },
  {
   "cell_type": "code",
   "execution_count": null,
   "metadata": {},
   "outputs": [],
   "source": [
    "xiv_auth['author_id'] = [[x['author_id'] for x in p] for p in xiv_auth['mag_authors']]"
   ]
  },
  {
   "cell_type": "code",
   "execution_count": null,
   "metadata": {},
   "outputs": [],
   "source": [
    "#Create the lookup between papers and authors\n",
    "paper_author_lookup = xiv_auth[['id','author_id']].explode('author_id').pipe(preview)"
   ]
  },
  {
   "cell_type": "code",
   "execution_count": null,
   "metadata": {},
   "outputs": [],
   "source": [
    "#Find authors with at least one covid paper\n",
    "covid_paper_ids = set(cov['id'])\n",
    "\n",
    "cov_paper_auths = set(paper_author_lookup.loc[[x in covid_paper_ids for x in paper_author_lookup['id']]]['author_id'])"
   ]
  },
  {
   "cell_type": "code",
   "execution_count": null,
   "metadata": {},
   "outputs": [],
   "source": [
    "#Merge with xiv and focus on covid authors\n",
    "trajectories = xiv.merge(paper_author_lookup,left_on='id',right_on='id').dropna(\n",
    "    axis=0,subset=['author_id'])\n",
    "\n",
    "#Focus on covid authors but removing covid publications -\n",
    "trajectories_covid_authors = trajectories.loc[[x in cov_paper_auths for x in trajectories['author_id']]]\n",
    "\n",
    "trajectories_covid_authors_2 = trajectories_covid_authors.loc[[x not in covid_paper_ids \n",
    "                                                               for x in trajectories_covid_authors['id']]]"
   ]
  },
  {
   "cell_type": "code",
   "execution_count": null,
   "metadata": {},
   "outputs": [],
   "source": [
    "author_profile = trajectories_covid_authors_2.groupby('author_id').apply(lambda x: get_author_profile(x))"
   ]
  },
  {
   "cell_type": "code",
   "execution_count": null,
   "metadata": {},
   "outputs": [],
   "source": [
    "#author_profile_disc = author_profile.apply(lambda x: pd.qcut(x,q=np.arange(0,1.1,0.25),labels=False))"
   ]
  },
  {
   "cell_type": "code",
   "execution_count": null,
   "metadata": {},
   "outputs": [],
   "source": [
    "cov_auth_prof = pd.merge(\n",
    "    pd.merge(cov,paper_author_lookup,left_on='id',right_on='id'),author_profile.reset_index(drop=False),\n",
    "    left_on='author_id',right_on='author_id')"
   ]
  },
  {
   "cell_type": "code",
   "execution_count": null,
   "metadata": {},
   "outputs": [],
   "source": [
    "paper_stats_ai_non_ai = (cov_auth_prof\n",
    "                   .groupby('id')[stat_names]\n",
    "                   .max()\n",
    "                   .reset_index(drop=False)\n",
    "                   .merge(cov_auth_prof[['id','is_ai','cluster']],left_on='id',right_on='id')\n",
    "                   .groupby('is_ai')[stat_names].mean())\n",
    "paper_stats_ai_non_ai"
   ]
  },
  {
   "cell_type": "code",
   "execution_count": null,
   "metadata": {},
   "outputs": [],
   "source": [
    "stat_names = ['paper_n','citation_mean','citation_median','experience']\n",
    "\n",
    "paper_stats_ind = (cov_auth_prof\n",
    "                   .groupby('id')[stat_names]\n",
    "                   .max()\n",
    "                   .reset_index(drop=False)\n",
    "                   .merge(cov_auth_prof[['id','is_ai','cluster']],left_on='id',right_on='id')\n",
    "                   .groupby(['is_ai','cluster'])[stat_names].mean()\n",
    "                   .reset_index(drop=False)\n",
    "                   .melt(id_vars=['is_ai','cluster'])).pipe(preview)"
   ]
  },
  {
   "cell_type": "code",
   "execution_count": null,
   "metadata": {},
   "outputs": [],
   "source": [
    "all_chs = []\n",
    "sorted_stats = ['paper_n','experience','citation_median','citation_mean']\n",
    "\n",
    "\n",
    "for x in sorted_stats:\n",
    "    ch = (alt.Chart(paper_stats_ind)\n",
    "          .transform_filter(alt.FieldOneOfPredicate('cluster',top_ai_clusters))\n",
    "          .transform_filter(alt.datum.variable==x)\n",
    "          .mark_bar().encode(x='is_ai:N',color='is_ai:N',\n",
    "                             y=alt.Y('value',title=x),\n",
    "                    column=alt.Column('cluster',\n",
    "                                      sort=alt.EncodingSortField('value',\n",
    "                                                                 op='max',\n",
    "                                                                 order='descending')))).properties(width=30,height=50)\n",
    "    all_chs.append(ch)\n",
    "\n",
    "    \n",
    "comp = alt.vconcat(*all_chs)\n",
    "\n",
    "save_fig(comp,'fig_12_qual')\n",
    "\n",
    "comp"
   ]
  },
  {
   "cell_type": "code",
   "execution_count": null,
   "metadata": {},
   "outputs": [],
   "source": [
    "paper_stats_ind_2 = (cov_auth_prof\n",
    "                   .groupby('id')[stat_names]\n",
    "                   .max()\n",
    "                   .reset_index(drop=False)\n",
    "                   .merge(cov_auth_prof[['id','is_ai','cluster','citation_count']],left_on='id',right_on='id'))"
   ]
  },
  {
   "cell_type": "code",
   "execution_count": null,
   "metadata": {},
   "outputs": [],
   "source": [
    "cluster_corr = paper_stats_ind_2.groupby(['cluster','is_ai']).apply(lambda x: x[stat_names+['citation_count']].corr()\n",
    "                                                       ).reset_index(drop=False).melt(\n",
    "    id_vars=['cluster','level_2','is_ai'])"
   ]
  },
  {
   "cell_type": "code",
   "execution_count": null,
   "metadata": {},
   "outputs": [],
   "source": [
    "# ordered_vars = stat_names+['citation_count']\n",
    "\n",
    "# (alt.Chart(cluster_corr)\n",
    "#  .transform_filter(alt.FieldOneOfPredicate('cluster',top_ai_clusters))\n",
    "#  .mark_rect(stroke='white',strokeWidth=0.5)\n",
    "#  .encode(x=alt.X('level_1',sort=ordered_vars),\n",
    "#          y=alt.Y('variable',sort=ordered_vars),\n",
    "#          color=alt.Color('value',scale=alt.Scale(scheme='viridis')))\n",
    "# .facet('cluster',columns=4))"
   ]
  },
  {
   "cell_type": "code",
   "execution_count": null,
   "metadata": {},
   "outputs": [],
   "source": [
    "perf_corr = (alt.Chart(cluster_corr)\n",
    " .transform_filter(alt.FieldOneOfPredicate('cluster',top_ai_clusters))\n",
    " .transform_filter(alt.datum.level_2=='citation_count')\n",
    " .transform_filter(alt.datum.variable != 'citation_count')\n",
    " .mark_bar(stroke='black',strokeWidth=0.1,width=10)\n",
    " .encode(x=alt.X('is_ai:N'),\n",
    "         y='value',\n",
    "         row=alt.Row('variable',sort=sorted_stats,title='Correlation coefficient'),\n",
    "         color=alt.Color('value',scale=alt.Scale(scheme='redblue'),sort='descending'),\n",
    "             column=alt.Column('cluster',sort=top_ai_clusters)\n",
    "        )).properties(\n",
    "    height=50,width=40).configure_axis(grid=True)\n",
    "\n",
    "save_fig(perf_corr,\"fig_13_perf_corr\")\n",
    "\n",
    "perf_corr"
   ]
  },
  {
   "cell_type": "code",
   "execution_count": null,
   "metadata": {},
   "outputs": [],
   "source": []
  }
 ],
 "metadata": {
  "language_info": {
   "name": "python",
   "pygments_lexer": "ipython3"
  }
 },
 "nbformat": 4,
 "nbformat_minor": 4
}
