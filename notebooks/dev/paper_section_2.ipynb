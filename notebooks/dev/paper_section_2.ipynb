{
 "cells": [
  {
   "cell_type": "markdown",
   "metadata": {},
   "source": [
    "# Machines of healing grace?\n",
    "\n",
    "Code with basic analysis and results from the AI v Covid paper\n",
    "\n",
    "**Sections**\n",
    "\n",
    "1. Descriptive analysis\n",
    "  * How much Covid and AI activity do we detect in our data sources?\n",
    "  * Is AI over or underrepresented in Covid research\n",
    "  * How has AI activity evolved over time?\n",
    "2. **Topical analysis**\n",
    "  * What is the topical composition of Covid research and in what areas is AI focusing?\n",
    "  * What are some examples of AI research to tackle Covid?\n",
    "  * How has it evolved over time?\n",
    "3. Geography\n",
    "  * Where is AI research happening?\n",
    "  * Who is doing it?\n",
    "  * Do we find any differences in the topics that different countries focus on?\n",
    "  * What reflects whether a country focuses on Covid research? Demand pull or supply push?\n",
    "4. Knowledge base\n",
    "  * On what topics do AI researchers draw on?\n",
    "4. Analysis of diffusion\n",
    "  * What determines the focus of AI researchers on particular topics?\n",
    "  * Does Covid oriented-AI research reflect the composition of the broader field? \n",
    "  * What researchers have been attracted to AI research and why?\n",
    "  "
   ]
  },
  {
   "cell_type": "markdown",
   "metadata": {},
   "source": [
    "## Preamble"
   ]
  },
  {
   "cell_type": "code",
   "execution_count": null,
   "metadata": {},
   "outputs": [],
   "source": [
    "%run ../notebook_preamble.ipy"
   ]
  },
  {
   "cell_type": "code",
   "execution_count": null,
   "metadata": {},
   "outputs": [],
   "source": [
    "import altair as alt\n",
    "from altair_saver import save\n",
    "from toolz.curried import *\n",
    "import random"
   ]
  },
  {
   "cell_type": "code",
   "execution_count": null,
   "metadata": {},
   "outputs": [],
   "source": [
    "FIG_PATH = f\"{project_dir}/reports/figures/report_1\"\n",
    "SRC_PATH = f\"{project_dir}/data/processed/ai_research\"\n"
   ]
  },
  {
   "cell_type": "code",
   "execution_count": null,
   "metadata": {},
   "outputs": [],
   "source": [
    "pd.options.mode.chained_assignment = None"
   ]
  },
  {
   "cell_type": "code",
   "execution_count": null,
   "metadata": {},
   "outputs": [],
   "source": [
    "def save_fig(figure,name):\n",
    "    save(figure,f'{FIG_PATH}/{name}.png',method='selenium',\n",
    "         webdriver=DRIVER,scale_factor=3)\n",
    "    \n",
    "def preview(x):\n",
    "    print(x.head())\n",
    "    print(x.shape)\n",
    "    return(x)"
   ]
  },
  {
   "cell_type": "markdown",
   "metadata": {},
   "source": [
    "## 1. Read data"
   ]
  },
  {
   "cell_type": "code",
   "execution_count": null,
   "metadata": {},
   "outputs": [],
   "source": [
    "xiv = pd.read_csv(f\"{SRC_PATH}/xiv_papers_labelled.csv\",dtype={'id':str}).pipe(preview)"
   ]
  },
  {
   "cell_type": "code",
   "execution_count": null,
   "metadata": {},
   "outputs": [],
   "source": [
    "xiv.columns = [x.lower() for x in xiv.columns]"
   ]
  },
  {
   "cell_type": "code",
   "execution_count": null,
   "metadata": {},
   "outputs": [],
   "source": [
    "ai_ids = set(xiv.loc[xiv['is_ai']==True]['id'])"
   ]
  },
  {
   "cell_type": "code",
   "execution_count": null,
   "metadata": {},
   "outputs": [],
   "source": [
    "tops = pd.read_csv(f\"{SRC_PATH}/tidy_paper_topics_ai_2.csv\").pipe(preview)\n",
    "\n",
    "tops['is_ai'] = [x in ai_ids for x in tops['article_id']]"
   ]
  },
  {
   "cell_type": "code",
   "execution_count": null,
   "metadata": {},
   "outputs": [],
   "source": [
    "#Create a cov df\n",
    "\n",
    "cov = xiv.query(\"is_covid == True\").reset_index(drop=True).pipe(preview)"
   ]
  },
  {
   "cell_type": "markdown",
   "metadata": {},
   "source": [
    "## 2. Analyse data"
   ]
  },
  {
   "cell_type": "markdown",
   "metadata": {},
   "source": [
    "### Clusters and topics"
   ]
  },
  {
   "cell_type": "code",
   "execution_count": null,
   "metadata": {},
   "outputs": [],
   "source": [
    "tops_no_dupes = tops.drop_duplicates(['article_id','cluster','is_ai'])"
   ]
  },
  {
   "cell_type": "code",
   "execution_count": null,
   "metadata": {},
   "outputs": [],
   "source": [
    "#Prep - get variables to sort axis\n",
    "#Shares of AI by cluster\n",
    "cluster_ai = 100*pd.crosstab(tops_no_dupes['cluster'],tops_no_dupes['is_ai'],\n",
    "                        normalize=1).sort_values(True,ascending=False)\n",
    "#This is the list of clusters to order the chart\n",
    "bar_order = cluster_ai.index\n",
    "\n",
    "cluster_distr = cluster_ai.reset_index(drop=False).melt(id_vars='cluster')\n",
    "\n",
    "w = 0.1\n",
    "topic_count = tops.loc[\n",
    "    tops['weight']>w].groupby(['topic','cluster']).size().reset_index(name='count')\n",
    "\n",
    "ai_topics = list(tops.loc[\n",
    "    tops['weight']>w].groupby(['topic','is_ai']).size().reset_index(\n",
    "    name='count').pivot_table(index='topic',columns='is_ai',values='count').fillna(\n",
    "    0).assign(share=lambda x: x[True]/x[False]).sort_values('share',ascending=False).index)"
   ]
  },
  {
   "cell_type": "code",
   "execution_count": null,
   "metadata": {},
   "outputs": [],
   "source": [
    "#Barchart component\n",
    "bar_b = alt.Chart(cluster_distr).mark_bar(opacity=0.5,width=15,\n",
    "                                      stroke='black',\n",
    "                                     strokeWidth=1).encode(x=alt.X('cluster',sort=list(bar_order),\n",
    "                                                                  axis=alt.Axis(labels=False,\n",
    "                                                                                title=\"\",ticks=False)),\n",
    "                                                           y=alt.Y('value',title='% in cluster',stack=False),\n",
    "                                                          color='is_ai')\n",
    "bar = bar_b.properties(height=100)"
   ]
  },
  {
   "cell_type": "code",
   "execution_count": null,
   "metadata": {},
   "outputs": [],
   "source": [
    "#\n",
    "hm_b = alt.Chart(topic_count).transform_filter(alt.FieldOneOfPredicate('topic',ai_topics[:40]))\n",
    "hm = hm_b.mark_rect().encode(x=alt.X('cluster',sort=list(bar_order),\n",
    "                                  axis=alt.Axis(grid=True,gridDash=[1,1],\n",
    "                                                gridOpacity=1)),\n",
    "                          y=alt.Y('topic',sort=list(ai_topics)\n",
    "                                  #axis=alt.Axis(grid=True,gridDash=[5,1],gridOpacity=0.5)\n",
    "                                 ),color='count:Q',tooltip=['topic','cluster'])"
   ]
  },
  {
   "cell_type": "code",
   "execution_count": null,
   "metadata": {},
   "outputs": [],
   "source": [
    "conc = alt.vconcat(bar.properties(width=400),hm.properties(\n",
    "    height=500,\n",
    "    width=400),spacing=0)\n",
    "\n",
    "save_fig(conc,\"fig_3_topic_mix\")\n",
    "\n",
    "conc"
   ]
  },
  {
   "cell_type": "markdown",
   "metadata": {},
   "source": [
    "### Clusters and sources"
   ]
  },
  {
   "cell_type": "code",
   "execution_count": null,
   "metadata": {},
   "outputs": [],
   "source": [
    "#What are the sources of papers in different topics?\n",
    "paper_source_lookup = xiv.set_index('id')['article_source'].to_dict()"
   ]
  },
  {
   "cell_type": "code",
   "execution_count": null,
   "metadata": {},
   "outputs": [],
   "source": [
    "tops_no_dupes['source'] = tops_no_dupes['article_id'].map(paper_source_lookup)"
   ]
  },
  {
   "cell_type": "code",
   "execution_count": null,
   "metadata": {},
   "outputs": [],
   "source": [
    "source_cluster_ai = tops_no_dupes.groupby(['source','is_ai','cluster']).size().pipe(preview).reset_index(name='paper_count')"
   ]
  },
  {
   "cell_type": "code",
   "execution_count": null,
   "metadata": {},
   "outputs": [],
   "source": [
    "s = (alt.Chart(source_cluster_ai)\n",
    "     .mark_bar().encode(\n",
    "         x=alt.X('cluster',sort=list(bar_order)),\n",
    "         y='paper_count',\n",
    "         color='source',\n",
    "         row=alt.Row('is_ai',sort=[True,False])))\n",
    "s = s.resolve_scale(y='independent').properties(width=400,height=100)\n",
    "\n",
    "save_fig(s,'fig_4_sources')"
   ]
  },
  {
   "cell_type": "code",
   "execution_count": null,
   "metadata": {},
   "outputs": [],
   "source": [
    "def get_examples(_list,values):\n",
    "    if len(_list)==0:\n",
    "        return('')\n",
    "    elif len(_list)<values:\n",
    "        return(random.choices(_list,k=len(_list)))\n",
    "    else:\n",
    "        return(random.choices(_list,k=values))"
   ]
  },
  {
   "cell_type": "markdown",
   "metadata": {},
   "source": [
    "### Table with examples"
   ]
  },
  {
   "cell_type": "code",
   "execution_count": null,
   "metadata": {},
   "outputs": [],
   "source": [
    "#Table with examples\n",
    "\n",
    "example_table_content = {'cluster':[],'salient_topics':[],'example_ai_papers':[],'example_non_ai_papers':[]}\n",
    "\n",
    "for c in bar_order:\n",
    "    #Add name\n",
    "    example_table_content['cluster'].append(c)\n",
    "    \n",
    "    #Get relevant papers\n",
    "    rel = tops.loc[tops['cluster']==c]\n",
    "    \n",
    "    #Add top topics\n",
    "    sal_tops = '\\n'.join(\n",
    "        rel.groupby('topic')['weight'].mean().sort_values(ascending=False).index[:3])\n",
    "    \n",
    "    example_table_content['salient_topics'].append(sal_tops)\n",
    "    \n",
    "    #Get some of the papers\n",
    "    rel_indices = set(rel['article_id'])\n",
    "    \n",
    "    cov_in_cluster = cov.loc[cov.id.isin(rel_indices)]\n",
    "    \n",
    "    \n",
    "    ex_ai,ex_nai = ['\\n'.join(get_examples(\n",
    "        list(cov_in_cluster.loc[cov_in_cluster['is_ai']==val]['title']),values=2)) for val in [True,False]]\n",
    "    \n",
    "    example_table_content['example_ai_papers'].append(ex_ai)\n",
    "    example_table_content['example_non_ai_papers'].append(ex_nai)\n",
    "    \n"
   ]
  },
  {
   "cell_type": "code",
   "execution_count": null,
   "metadata": {},
   "outputs": [],
   "source": [
    "example_table = pd.DataFrame(example_table_content)\n",
    "example_table.to_csv(f\"{FIG_PATH}/table_1_examples.csv\",mode='w')"
   ]
  },
  {
   "cell_type": "code",
   "execution_count": null,
   "metadata": {},
   "outputs": [],
   "source": [
    "example_table.head()"
   ]
  },
  {
   "cell_type": "markdown",
   "metadata": {},
   "source": [
    "### Evoution of topics over time"
   ]
  },
  {
   "cell_type": "code",
   "execution_count": null,
   "metadata": {},
   "outputs": [],
   "source": [
    "cluster_mapping = pd.DataFrame(tops_no_dupes[['article_id','cluster']])\n",
    "cluster_mapping.to_csv(f\"{project_dir}/data/interim/ai_cluster_mapping.csv\",index_label=False)"
   ]
  },
  {
   "cell_type": "code",
   "execution_count": null,
   "metadata": {},
   "outputs": [],
   "source": [
    "cov['cluster'] = cov['id'].map(cluster_mapping)\n",
    "cov['date'] = pd.to_datetime(cov['created'])"
   ]
  },
  {
   "cell_type": "code",
   "execution_count": null,
   "metadata": {},
   "outputs": [],
   "source": [
    "#Grouped\n",
    "\n",
    "cluster_trends = cov.query(\"date>='2020'\").groupby(['date','is_ai','cluster']).size().reset_index(name='count').pipe(preview)\n",
    "cluster_trends['cluster_short'] = [x if x in bar_order[:7] else 'other' for x in cluster_trends['cluster']]"
   ]
  },
  {
   "cell_type": "code",
   "execution_count": null,
   "metadata": {},
   "outputs": [],
   "source": [
    "(alt.Chart(cluster_trends)\n",
    " .transform_filter(alt.datum.is_ai==1)\n",
    " .mark_bar()\n",
    " .encode(x='date',y='count',color='cluster_short'))"
   ]
  },
  {
   "cell_type": "code",
   "execution_count": null,
   "metadata": {},
   "outputs": [],
   "source": []
  }
 ],
 "metadata": {
  "language_info": {
   "name": "python",
   "pygments_lexer": "ipython3"
  }
 },
 "nbformat": 4,
 "nbformat_minor": 4
}
