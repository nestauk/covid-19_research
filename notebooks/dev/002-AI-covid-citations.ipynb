{
 "cells": [
  {
   "cell_type": "code",
   "execution_count": 6,
   "metadata": {},
   "outputs": [],
   "source": [
    "%load_ext autoreload"
   ]
  },
  {
   "cell_type": "markdown",
   "metadata": {},
   "source": [
    "## 0) Preamble\n",
    "\n",
    "### Set path variables"
   ]
  },
  {
   "cell_type": "code",
   "execution_count": 7,
   "metadata": {},
   "outputs": [],
   "source": [
    "import sys\n",
    "import os\n",
    "\n",
    "PROJECT_PATH = '../../'\n",
    "NESTA_PATH = f'{os.environ[\"HOME\"]}/Nesta/nesta'\n",
    "SQL_CONF_PATH = f'{os.environ[\"HOME\"]}/Nesta-AWS/AWS-RDS-config/innovation-mapping-5712.config'\n",
    "AWS_SUBSCRIPTION_KEY = '951506285b4649c19065b282ac4e63c4'\n",
    "\n",
    "sys.path += [PROJECT_PATH, NESTA_PATH]"
   ]
  },
  {
   "cell_type": "markdown",
   "metadata": {},
   "source": [
    "### Imports and load data"
   ]
  },
  {
   "cell_type": "code",
   "execution_count": 8,
   "metadata": {},
   "outputs": [
    {
     "ename": "ModuleNotFoundError",
     "evalue": "No module named 'yaml'",
     "output_type": "error",
     "traceback": [
      "\u001b[0;31m---------------------------------------------------------------------------\u001b[0m",
      "\u001b[0;31mModuleNotFoundError\u001b[0m                       Traceback (most recent call last)",
      "\u001b[0;32m<ipython-input-8-fdbf46019ab6>\u001b[0m in \u001b[0;36m<module>\u001b[0;34m\u001b[0m\n\u001b[1;32m      7\u001b[0m \u001b[0;32mimport\u001b[0m \u001b[0mitertools\u001b[0m\u001b[0;34m\u001b[0m\u001b[0;34m\u001b[0m\u001b[0m\n\u001b[1;32m      8\u001b[0m \u001b[0;32mfrom\u001b[0m \u001b[0mcollections\u001b[0m \u001b[0;32mimport\u001b[0m \u001b[0mCounter\u001b[0m\u001b[0;34m,\u001b[0m \u001b[0mdefaultdict\u001b[0m\u001b[0;34m\u001b[0m\u001b[0;34m\u001b[0m\u001b[0m\n\u001b[0;32m----> 9\u001b[0;31m \u001b[0;32mfrom\u001b[0m \u001b[0mcord19\u001b[0m\u001b[0;34m.\u001b[0m\u001b[0mtransformers\u001b[0m\u001b[0;34m.\u001b[0m\u001b[0mutils\u001b[0m \u001b[0;32mimport\u001b[0m \u001b[0mget_engine\u001b[0m\u001b[0;34m\u001b[0m\u001b[0;34m\u001b[0m\u001b[0m\n\u001b[0m\u001b[1;32m     10\u001b[0m \u001b[0;32mfrom\u001b[0m \u001b[0mcord19\u001b[0m\u001b[0;34m.\u001b[0m\u001b[0mtransformers\u001b[0m\u001b[0;34m.\u001b[0m\u001b[0mutils\u001b[0m \u001b[0;32mimport\u001b[0m \u001b[0mcontains_keyword\u001b[0m  \u001b[0;31m# Specifies keywords ('SARS-CoV-2', 'COVID-19', 'coronavirus')\u001b[0m\u001b[0;34m\u001b[0m\u001b[0;34m\u001b[0m\u001b[0m\n\u001b[1;32m     11\u001b[0m \u001b[0;32mfrom\u001b[0m \u001b[0mnesta\u001b[0m\u001b[0;34m.\u001b[0m\u001b[0mpackages\u001b[0m\u001b[0;34m.\u001b[0m\u001b[0mmag\u001b[0m\u001b[0;34m.\u001b[0m\u001b[0mquery_mag_api\u001b[0m \u001b[0;32mimport\u001b[0m \u001b[0mbuild_expr\u001b[0m\u001b[0;34m\u001b[0m\u001b[0;34m\u001b[0m\u001b[0m\n",
      "\u001b[0;32m~/Nesta/covid-19_research/cord19/__init__.py\u001b[0m in \u001b[0;36m<module>\u001b[0;34m\u001b[0m\n\u001b[1;32m      1\u001b[0m \u001b[0;32mimport\u001b[0m \u001b[0mlogging\u001b[0m\u001b[0;34m\u001b[0m\u001b[0;34m\u001b[0m\u001b[0m\n\u001b[1;32m      2\u001b[0m \u001b[0;32mimport\u001b[0m \u001b[0mlogging\u001b[0m\u001b[0;34m.\u001b[0m\u001b[0mconfig\u001b[0m\u001b[0;34m\u001b[0m\u001b[0;34m\u001b[0m\u001b[0m\n\u001b[0;32m----> 3\u001b[0;31m \u001b[0;32mimport\u001b[0m \u001b[0myaml\u001b[0m\u001b[0;34m\u001b[0m\u001b[0;34m\u001b[0m\u001b[0m\n\u001b[0m\u001b[1;32m      4\u001b[0m \u001b[0;32mfrom\u001b[0m \u001b[0mpathlib\u001b[0m \u001b[0;32mimport\u001b[0m \u001b[0mPath\u001b[0m\u001b[0;34m\u001b[0m\u001b[0;34m\u001b[0m\u001b[0m\n\u001b[1;32m      5\u001b[0m \u001b[0;34m\u001b[0m\u001b[0m\n",
      "\u001b[0;31mModuleNotFoundError\u001b[0m: No module named 'yaml'"
     ]
    }
   ],
   "source": [
    "%matplotlib inline\n",
    "%autoreload 2\n",
    "from matplotlib import pyplot as plt\n",
    "import seaborn as sns\n",
    "import pandas as pd\n",
    "import json\n",
    "import itertools\n",
    "from collections import Counter, defaultdict\n",
    "from cord19.transformers.utils import get_engine\n",
    "from cord19.transformers.utils import contains_keyword  # Specifies keywords ('SARS-CoV-2', 'COVID-19', 'coronavirus')\n",
    "from nesta.packages.mag.query_mag_api import build_expr\n",
    "from nesta.packages.mag.query_mag_api import query_mag_api"
   ]
  },
  {
   "cell_type": "code",
   "execution_count": 7,
   "metadata": {},
   "outputs": [
    {
     "name": "stderr",
     "output_type": "stream",
     "text": [
      "/Users/jklinger/anaconda3/envs/py36/lib/python3.6/site-packages/pymysql/cursors.py:166: Warning: (1287, \"'@@tx_isolation' is deprecated and will be removed in a future release. Please use '@@transaction_isolation' instead\")\n",
      "  result = self._query(query)\n"
     ]
    },
    {
     "name": "stdout",
     "output_type": "stream",
     "text": [
      "CPU times: user 1min 22s, sys: 10.1 s, total: 1min 32s\n",
      "Wall time: 2min 46s\n"
     ]
    }
   ],
   "source": [
    "%%time\n",
    "con = get_engine(SQL_CONF_PATH)\n",
    "columns = ['id', 'created', 'title', 'abstract', 'mag_id', 'citation_count', 'article_source']\n",
    "chunks = pd.read_sql_table('arxiv_articles', con, columns=columns, chunksize=1000)\n",
    "covid_df = [df.loc[df.abstract.apply(contains_keyword) | df.title.apply(contains_keyword)]\n",
    "            for df in chunks]\n",
    "covid_df = pd.concat(covid_df)"
   ]
  },
  {
   "cell_type": "markdown",
   "metadata": {},
   "source": [
    "### Get MAG IDs for \"covid+AI\" articles"
   ]
  },
  {
   "cell_type": "code",
   "execution_count": 8,
   "metadata": {},
   "outputs": [],
   "source": [
    "with open(f\"{PROJECT_PATH}/data/raw/ai_paper_ids.json\") as f:\n",
    "    ai_paper_ids = json.load(f)\n",
    "condition = covid_df.id.apply(lambda id: id in ai_paper_ids)\n",
    "mag_ids = [int(id) for id in covid_df.mag_id.loc[condition] if not pd.isnull(id)]"
   ]
  },
  {
   "cell_type": "code",
   "execution_count": 9,
   "metadata": {},
   "outputs": [
    {
     "name": "stdout",
     "output_type": "stream",
     "text": [
      "Total AI paper IDs 215\n",
      "Subtotal with valid MAG IDs 175\n"
     ]
    }
   ],
   "source": [
    "print(\"Total AI paper IDs\", len(ai_paper_ids))\n",
    "print(\"Subtotal with valid MAG IDs\", len(mag_ids))"
   ]
  },
  {
   "cell_type": "markdown",
   "metadata": {},
   "source": [
    "## 1) Get citation info from available MAG IDs"
   ]
  },
  {
   "cell_type": "code",
   "execution_count": 10,
   "metadata": {},
   "outputs": [],
   "source": [
    "# Get the citation info\n",
    "for expr in build_expr(mag_ids, 'Id'):\n",
    "    result = query_mag_api(expr, fields=['Id', 'CitCon'], subscription_key=AWS_SUBSCRIPTION_KEY)"
   ]
  },
  {
   "cell_type": "code",
   "execution_count": 11,
   "metadata": {},
   "outputs": [
    {
     "data": {
      "text/plain": [
       "'Number of unique citees: 1397'"
      ]
     },
     "execution_count": 11,
     "metadata": {},
     "output_type": "execute_result"
    }
   ],
   "source": [
    "# Mapping of {citing article id --> [list of citation article ids]}\n",
    "citers = {str(article['Id']): list(article['CitCon'].keys()) \n",
    "          if 'CitCon' in article else [] for article in result['entities']}\n",
    "\n",
    "# Set of ids of all cited articles\n",
    "citee_ids = set(int(id) for id in itertools.chain.from_iterable(citers.values()))\n",
    "\n",
    "f\"Number of unique citees: {len(citee_ids)}\""
   ]
  },
  {
   "cell_type": "code",
   "execution_count": 12,
   "metadata": {},
   "outputs": [
    {
     "data": {
      "text/plain": [
       "(0, 0)"
      ]
     },
     "execution_count": 12,
     "metadata": {},
     "output_type": "execute_result"
    }
   ],
   "source": [
    "# Get full info for each citation\n",
    "results = []\n",
    "query_count = 1000\n",
    "for expr in build_expr(citee_ids.union(citers), 'Id'):\n",
    "    count, offset = query_count, 0\n",
    "    # Do until no results left\n",
    "    while count == query_count:\n",
    "        _result = query_mag_api(expr, fields=['Id', 'J.JN', 'D', 'DN', 'DOI', 'CC', 'F.FN'], \n",
    "                                subscription_key=AWS_SUBSCRIPTION_KEY, \n",
    "                                offset=offset, query_count=query_count)['entities']      \n",
    "        \n",
    "        count = len(_result)\n",
    "        offset += count\n",
    "        results += _result\n",
    "        \n",
    "# Data quality: check that we returned all of the citation IDs\n",
    "returned_ids = {r['Id'] for r in results}\n",
    "len(citee_ids - returned_ids), len(set(citers) - returned_ids)  # <-- these should be zero!"
   ]
  },
  {
   "cell_type": "markdown",
   "metadata": {},
   "source": [
    "## 2) Save the citation information for later"
   ]
  },
  {
   "cell_type": "code",
   "execution_count": 13,
   "metadata": {},
   "outputs": [],
   "source": [
    "# Look up for flattened variable names\n",
    "field_dictionary = {'CC': 'citations', \n",
    "                    'D': 'date',\n",
    "                    'DN': 'title',\n",
    "                    'F': lambda x: {'fields_of_study': [_x['FN'] for _x in x]},\n",
    "                    'Id': 'mag_id',\n",
    "                    'J': lambda x: {'journal_title': x['JN']}}\n",
    "\n",
    "# Mapping of all article ids (both citers and citees) --> flattened article data\n",
    "articles = {}\n",
    "for r in results:\n",
    "    article = {}\n",
    "    # Convert the field names from MAG to something legible\n",
    "    for mag_key, field in field_dictionary.items():\n",
    "        # Ignore this MAG field if the result doesn't have it!\n",
    "        if mag_key not in r:\n",
    "            continue\n",
    "        # If the mapping is str --> value\n",
    "        if type(field) is str:\n",
    "            article[field] = r[mag_key]\n",
    "        # Otherwise assume that the mapping is a lambda function\n",
    "        else:\n",
    "            article.update(field(r[mag_key]))\n",
    "    articles[str(r['Id'])] = article\n",
    "\n",
    "# Mapping of all article ids (both citers and citees) --> flattened article data\n",
    "with open(f'{PROJECT_PATH}/data/processed/ai_article_mag_info.json', 'w') as f:\n",
    "    f.write(json.dumps(articles))\n",
    "\n",
    "# Citer ids. Together with `articles` you've got everything you need\n",
    "with open(f'{PROJECT_PATH}/data/processed/citation_lookup.json', 'w') as f:\n",
    "    f.write(json.dumps(citers))"
   ]
  },
  {
   "cell_type": "markdown",
   "metadata": {},
   "source": [
    "## 3) Cross-tab FoS in articles and FoS of citations"
   ]
  },
  {
   "cell_type": "code",
   "execution_count": 16,
   "metadata": {},
   "outputs": [],
   "source": [
    "def get_fos(articles, citers):\n",
    "    \"\"\"Get the fields of study for citers and citees\"\"\"\n",
    "    fos_articles = []  # citers\n",
    "    fos_citations = []  # citees\n",
    "    for id, article in articles.items():\n",
    "        if id not in citers:\n",
    "            continue\n",
    "        _fos_articles = article['fields_of_study']\n",
    "        # For citations, flatten the list\n",
    "        _fos_citations = list(itertools.chain.from_iterable(articles[c][\"fields_of_study\"] for c in citers[id]))\n",
    "        fos_articles += _fos_articles\n",
    "        fos_citations += _fos_citations\n",
    "    return fos_articles, fos_citations"
   ]
  },
  {
   "cell_type": "code",
   "execution_count": 15,
   "metadata": {},
   "outputs": [
    {
     "name": "stdout",
     "output_type": "stream",
     "text": [
      "Most common FoS in citing articles: ['artificial intelligence', 'coronavirus disease 2019', 'computer science', 'machine learning', 'deep learning', 'medicine', 'coronavirus', 'biology', 'convolutional neural network', 'pattern recognition', 'severe acute respiratory syndrome coronavirus 2', 'pandemic', 'computed tomography', 'disease', 'outbreak']\n",
      "Most common FoS in cited articles: ['artificial intelligence', 'computer science', 'medicine', 'machine learning', 'pattern recognition', 'coronavirus disease 2019', 'deep learning', 'biology', 'severe acute respiratory syndrome coronavirus 2', 'convolutional neural network', 'artificial neural network', 'computer vision', 'coronavirus', 'virology', '2019 20 coronavirus outbreak']\n"
     ]
    }
   ],
   "source": [
    "fos_articles, fos_citations = get_fos(articles, citers)\n",
    "\n",
    "# Get the 15 most common fields of study for plotting\n",
    "fa_most_common = [f for f, _ in Counter(fos_articles).most_common(15)]\n",
    "fc_most_common = [f for f, _ in Counter(fos_citations).most_common(15)]\n",
    "\n",
    "print(f\"Most common FoS in citing articles: {fa_most_common}\")\n",
    "print(f\"Most common FoS in cited articles: {fc_most_common}\")\n",
    "\n",
    "# Create a lookup of {citer FoS --> citee FoS --> count}\n",
    "# Note: this can be readily converted to DataFrame cross-tab\n",
    "cross_tab = defaultdict(lambda: defaultdict(int))\n",
    "for id, article in articles.items():\n",
    "    if id not in citers:\n",
    "        continue\n",
    "    # Get the fields of study\n",
    "    _fos_articles = [f for f in article['fields_of_study'] if f in fa_most_common]\n",
    "    # As before, for citations, flatten the list\n",
    "    _fos_citations = list(itertools.chain.from_iterable(articles[int(c)][\"fields_of_study\"] for c in citers[id]))\n",
    "    _fos_citations = [f for f in _fos_citations if f in fc_most_common]\n",
    "    # Increment the cross-tab\n",
    "    for fa in _fos_articles:\n",
    "        for fc in _fos_citations:\n",
    "            cross_tab[fa][fc] += 1"
   ]
  },
  {
   "cell_type": "code",
   "execution_count": 16,
   "metadata": {},
   "outputs": [
    {
     "data": {
      "text/plain": [
       "Text(68.99999999999999, 0.5, 'Articles by field of study')"
      ]
     },
     "execution_count": 16,
     "metadata": {},
     "output_type": "execute_result"
    },
    {
     "data": {
      "image/png": "[encoded data removed]",
      "text/plain": [
       "<Figure size 720x720 with 2 Axes>"
      ]
     },
     "metadata": {
      "needs_background": "light"
     },
     "output_type": "display_data"
    }
   ],
   "source": [
    "# Normalise, sort and plot the cross-tab\n",
    "fig, ax = plt.subplots(figsize=(10,10))\n",
    "_cross_tab = pd.DataFrame(cross_tab, columns=fa_most_common, index=fc_most_common).T\n",
    "_cross_tab_sum = _cross_tab.sum(axis=1) \n",
    "cross_tab_norm = _cross_tab.apply(lambda row: row/_cross_tab_sum, axis=0)\n",
    "sorted_columns = cross_tab_norm.sum().sort_values(ascending=False).index\n",
    "cross_tab_norm = cross_tab_norm[sorted_columns]\n",
    "sns.heatmap(pd.DataFrame(cross_tab_norm), ax=ax)\n",
    "ax.set_xlabel(\"Citations by field of study\")\n",
    "ax.set_ylabel(\"Articles by field of study\")"
   ]
  },
  {
   "cell_type": "markdown",
   "metadata": {},
   "source": [
    "## 4) Field of study semantic differences"
   ]
  },
  {
   "cell_type": "code",
   "execution_count": 2,
   "metadata": {},
   "outputs": [
    {
     "name": "stdout",
     "output_type": "stream",
     "text": [
      "module https://tfhub.dev/google/universal-sentence-encoder/4 loaded\n"
     ]
    }
   ],
   "source": [
    "import tensorflow as tf\n",
    "import tensorflow_hub as hub\n",
    "\n",
    "module_url = \"https://tfhub.dev/google/universal-sentence-encoder/4\"\n",
    "model = hub.load(module_url)\n",
    "print (\"module %s loaded\" % module_url)\n",
    "def embed(input):\n",
    "    return model(input)"
   ]
  },
  {
   "cell_type": "code",
   "execution_count": 19,
   "metadata": {},
   "outputs": [],
   "source": [
    "# Mapping of all article ids (both citers and citees) --> flattened article data\n",
    "with open(f'{PROJECT_PATH}/data/processed/ai_article_mag_info.json') as f:\n",
    "    articles = json.load(f)\n",
    "    \n",
    "# Citer ids. Together with `articles` you've got everything you need\n",
    "with open(f'{PROJECT_PATH}/data/processed/citation_lookup.json') as f:\n",
    "    citers = json.load(f)\n",
    "    \n",
    "# Get the fields of study for citers and citees\n",
    "fos_articles, fos_citations = get_fos(articles, citers)\n",
    "fa_most_common = [f for f, _ in Counter(fos_articles).most_common(15)]\n",
    "fc_most_common = [f for f, _ in Counter(fos_citations).most_common(15)]"
   ]
  },
  {
   "cell_type": "code",
   "execution_count": 20,
   "metadata": {},
   "outputs": [
    {
     "data": {
      "text/plain": [
       "'artificial intelligence'"
      ]
     },
     "execution_count": 20,
     "metadata": {},
     "output_type": "execute_result"
    }
   ],
   "source": [
    "fa_most_common[0] "
   ]
  },
  {
   "cell_type": "code",
   "execution_count": 23,
   "metadata": {},
   "outputs": [
    {
     "data": {
      "text/plain": [
       "'artificial intelligence'"
      ]
     },
     "execution_count": 23,
     "metadata": {},
     "output_type": "execute_result"
    }
   ],
   "source": [
    "fc_most_common[0]"
   ]
  },
  {
   "cell_type": "code",
   "execution_count": 34,
   "metadata": {},
   "outputs": [
    {
     "name": "stdout",
     "output_type": "stream",
     "text": [
      "artificial intelligence\n",
      "\t artificial intelligence 1.0000002\n",
      "\t computer science 0.41696027\n",
      "\t medicine 0.19788225\n",
      "\t machine learning 0.5775031\n",
      "\t pattern recognition 0.25437605\n",
      "\t coronavirus disease 2019 0.20546761\n",
      "\t deep learning 0.5663028\n",
      "\t biology 0.28462332\n",
      "\t severe acute respiratory syndrome coronavirus 2 0.13357906\n",
      "\t convolutional neural network 0.44763976\n",
      "\t artificial neural network 0.6573779\n",
      "\t computer vision 0.39607766\n",
      "\t coronavirus 0.17420861\n",
      "\t virology 0.17667301\n",
      "\t 2019 20 coronavirus outbreak 0.13414928\n",
      "\n",
      "coronavirus disease 2019\n",
      "\t artificial intelligence 0.20546761\n",
      "\t computer science 0.039695986\n",
      "\t medicine 0.17025161\n",
      "\t machine learning 0.18605027\n",
      "\t pattern recognition -0.01155198\n",
      "\t coronavirus disease 2019 0.99999994\n",
      "\t deep learning 0.19852594\n",
      "\t biology 0.16625506\n",
      "\t severe acute respiratory syndrome coronavirus 2 0.32733974\n",
      "\t convolutional neural network 0.16883266\n",
      "\t artificial neural network 0.24012345\n",
      "\t computer vision 0.026914466\n",
      "\t coronavirus 0.27345586\n",
      "\t virology 0.2776452\n",
      "\t 2019 20 coronavirus outbreak 0.55059034\n",
      "\n",
      "computer science\n",
      "\t artificial intelligence 0.41696027\n",
      "\t computer science 0.9999998\n",
      "\t medicine 0.3002736\n",
      "\t machine learning 0.45221442\n",
      "\t pattern recognition 0.24639687\n",
      "\t coronavirus disease 2019 0.039695986\n",
      "\t deep learning 0.37451544\n",
      "\t biology 0.41627705\n",
      "\t severe acute respiratory syndrome coronavirus 2 -0.0751678\n",
      "\t convolutional neural network 0.20013346\n",
      "\t artificial neural network 0.20560333\n",
      "\t computer vision 0.49181914\n",
      "\t coronavirus 0.04111904\n",
      "\t virology 0.17177701\n",
      "\t 2019 20 coronavirus outbreak 0.021241149\n",
      "\n",
      "machine learning\n",
      "\t artificial intelligence 0.5775031\n",
      "\t computer science 0.45221442\n",
      "\t medicine 0.22487757\n",
      "\t machine learning 0.99999964\n",
      "\t pattern recognition 0.43927154\n",
      "\t coronavirus disease 2019 0.18605027\n",
      "\t deep learning 0.76285803\n",
      "\t biology 0.29689014\n",
      "\t severe acute respiratory syndrome coronavirus 2 0.02913985\n",
      "\t convolutional neural network 0.6041112\n",
      "\t artificial neural network 0.59647614\n",
      "\t computer vision 0.38465846\n",
      "\t coronavirus 0.098415054\n",
      "\t virology 0.18815392\n",
      "\t 2019 20 coronavirus outbreak 0.08313807\n",
      "\n",
      "deep learning\n",
      "\t artificial intelligence 0.5663028\n",
      "\t computer science 0.37451544\n",
      "\t medicine 0.12860543\n",
      "\t machine learning 0.76285803\n",
      "\t pattern recognition 0.40294543\n",
      "\t coronavirus disease 2019 0.19852594\n",
      "\t deep learning 0.9999999\n",
      "\t biology 0.32726583\n",
      "\t severe acute respiratory syndrome coronavirus 2 0.0832818\n",
      "\t convolutional neural network 0.63331246\n",
      "\t artificial neural network 0.59176624\n",
      "\t computer vision 0.32083607\n",
      "\t coronavirus 0.056615695\n",
      "\t virology 0.12893873\n",
      "\t 2019 20 coronavirus outbreak 0.06827327\n",
      "\n",
      "medicine\n",
      "\t artificial intelligence 0.19788225\n",
      "\t computer science 0.3002736\n",
      "\t medicine 0.99999994\n",
      "\t machine learning 0.22487757\n",
      "\t pattern recognition 0.075207695\n",
      "\t coronavirus disease 2019 0.17025161\n",
      "\t deep learning 0.12860543\n",
      "\t biology 0.3646158\n",
      "\t severe acute respiratory syndrome coronavirus 2 0.040204927\n",
      "\t convolutional neural network -0.09888829\n",
      "\t artificial neural network -0.018004227\n",
      "\t computer vision 0.2908242\n",
      "\t coronavirus 0.2675309\n",
      "\t virology 0.2647443\n",
      "\t 2019 20 coronavirus outbreak 0.0044358857\n",
      "\n",
      "coronavirus\n",
      "\t artificial intelligence 0.17420858\n",
      "\t computer science 0.04111905\n",
      "\t medicine 0.26753086\n",
      "\t machine learning 0.09841506\n",
      "\t pattern recognition -0.040561922\n",
      "\t coronavirus disease 2019 0.27345574\n",
      "\t deep learning 0.05661565\n",
      "\t biology 0.10408547\n",
      "\t severe acute respiratory syndrome coronavirus 2 0.038066287\n",
      "\t convolutional neural network 0.0865183\n",
      "\t artificial neural network 0.097099245\n",
      "\t computer vision 0.14677486\n",
      "\t coronavirus 1.0000001\n",
      "\t virology 0.25648484\n",
      "\t 2019 20 coronavirus outbreak 0.07616044\n",
      "\n",
      "biology\n",
      "\t artificial intelligence 0.28462335\n",
      "\t computer science 0.416277\n",
      "\t medicine 0.36461592\n",
      "\t machine learning 0.29689014\n",
      "\t pattern recognition 0.19698454\n",
      "\t coronavirus disease 2019 0.16625503\n",
      "\t deep learning 0.32726586\n",
      "\t biology 1.0\n",
      "\t severe acute respiratory syndrome coronavirus 2 0.12095298\n",
      "\t convolutional neural network 0.1687493\n",
      "\t artificial neural network 0.21578076\n",
      "\t computer vision 0.2534914\n",
      "\t coronavirus 0.104085505\n",
      "\t virology 0.27348635\n",
      "\t 2019 20 coronavirus outbreak 0.04378908\n",
      "\n",
      "convolutional neural network\n",
      "\t artificial intelligence 0.44763976\n",
      "\t computer science 0.20013346\n",
      "\t medicine -0.09888829\n",
      "\t machine learning 0.6041112\n",
      "\t pattern recognition 0.30982935\n",
      "\t coronavirus disease 2019 0.16883266\n",
      "\t deep learning 0.63331246\n",
      "\t biology 0.16874929\n",
      "\t severe acute respiratory syndrome coronavirus 2 0.1863879\n",
      "\t convolutional neural network 1.0\n",
      "\t artificial neural network 0.82342505\n",
      "\t computer vision 0.2260069\n",
      "\t coronavirus 0.08651833\n",
      "\t virology 0.095474005\n",
      "\t 2019 20 coronavirus outbreak 0.10767743\n",
      "\n",
      "pattern recognition\n",
      "\t artificial intelligence 0.2543761\n",
      "\t computer science 0.24639687\n",
      "\t medicine 0.075207695\n",
      "\t machine learning 0.43927157\n",
      "\t pattern recognition 0.99999994\n",
      "\t coronavirus disease 2019 -0.011551965\n",
      "\t deep learning 0.40294546\n",
      "\t biology 0.19698459\n",
      "\t severe acute respiratory syndrome coronavirus 2 -0.013942302\n",
      "\t convolutional neural network 0.30982935\n",
      "\t artificial neural network 0.30174947\n",
      "\t computer vision 0.24840435\n",
      "\t coronavirus -0.04056195\n",
      "\t virology 0.04028443\n",
      "\t 2019 20 coronavirus outbreak -0.08478398\n",
      "\n",
      "severe acute respiratory syndrome coronavirus 2\n",
      "\t artificial intelligence 0.13357906\n",
      "\t computer science -0.0751678\n",
      "\t medicine 0.040204927\n",
      "\t machine learning 0.02913985\n",
      "\t pattern recognition -0.01394226\n",
      "\t coronavirus disease 2019 0.32733974\n",
      "\t deep learning 0.0832818\n",
      "\t biology 0.120952964\n",
      "\t severe acute respiratory syndrome coronavirus 2 0.99999976\n",
      "\t convolutional neural network 0.1863879\n",
      "\t artificial neural network 0.18431243\n",
      "\t computer vision -0.0072740223\n",
      "\t coronavirus 0.03806634\n",
      "\t virology 0.114783674\n",
      "\t 2019 20 coronavirus outbreak 0.2613652\n",
      "\n",
      "pandemic\n",
      "\t artificial intelligence 0.2810884\n",
      "\t computer science 0.15085384\n",
      "\t medicine 0.25726283\n",
      "\t machine learning 0.17239648\n",
      "\t pattern recognition 0.20067888\n",
      "\t coronavirus disease 2019 0.3840108\n",
      "\t deep learning 0.19644758\n",
      "\t biology 0.19260621\n",
      "\t severe acute respiratory syndrome coronavirus 2 0.23363811\n",
      "\t convolutional neural network 0.07738422\n",
      "\t artificial neural network 0.13857335\n",
      "\t computer vision 0.075741865\n",
      "\t coronavirus 0.110631496\n",
      "\t virology 0.25922874\n",
      "\t 2019 20 coronavirus outbreak 0.39560723\n",
      "\n",
      "computed tomography\n",
      "\t artificial intelligence 0.3045097\n",
      "\t computer science 0.18704233\n",
      "\t medicine 0.09894953\n",
      "\t machine learning 0.35973912\n",
      "\t pattern recognition 0.15521584\n",
      "\t coronavirus disease 2019 0.33553606\n",
      "\t deep learning 0.32807934\n",
      "\t biology 0.1522417\n",
      "\t severe acute respiratory syndrome coronavirus 2 0.103721924\n",
      "\t convolutional neural network 0.3637197\n",
      "\t artificial neural network 0.34631348\n",
      "\t computer vision 0.15707248\n",
      "\t coronavirus 0.17243502\n",
      "\t virology 0.28734392\n",
      "\t 2019 20 coronavirus outbreak 0.18258879\n",
      "\n",
      "disease\n",
      "\t artificial intelligence 0.22591448\n",
      "\t computer science 0.17504984\n",
      "\t medicine 0.4613375\n",
      "\t machine learning 0.24624814\n",
      "\t pattern recognition 0.18611372\n",
      "\t coronavirus disease 2019 0.4934495\n",
      "\t deep learning 0.14291641\n",
      "\t biology 0.32347658\n",
      "\t severe acute respiratory syndrome coronavirus 2 0.18312266\n",
      "\t convolutional neural network 0.037077837\n",
      "\t artificial neural network 0.15363605\n",
      "\t computer vision 0.1856468\n",
      "\t coronavirus 0.29808623\n",
      "\t virology 0.32590133\n",
      "\t 2019 20 coronavirus outbreak 0.14830408\n",
      "\n",
      "outbreak\n",
      "\t artificial intelligence 0.257572\n",
      "\t computer science 0.12871282\n",
      "\t medicine 0.22535814\n",
      "\t machine learning 0.22394885\n",
      "\t pattern recognition 0.15996212\n",
      "\t coronavirus disease 2019 0.37736237\n",
      "\t deep learning 0.1874604\n",
      "\t biology 0.2457861\n",
      "\t severe acute respiratory syndrome coronavirus 2 0.2067892\n",
      "\t convolutional neural network 0.16411398\n",
      "\t artificial neural network 0.20386247\n",
      "\t computer vision 0.12897693\n",
      "\t coronavirus 0.13822412\n",
      "\t virology 0.2581927\n",
      "\t 2019 20 coronavirus outbreak 0.5459031\n",
      "\n"
     ]
    }
   ],
   "source": [
    "import numpy as np\n",
    "a = embed(fa_most_common)\n",
    "c = embed(fc_most_common)\n",
    "\n",
    "for TERM, row in zip(fa_most_common, np.inner(a, c)):\n",
    "    print(TERM)\n",
    "    for term, sim in zip(fc_most_common, row):\n",
    "        print(\"\\t\", term, sim)\n",
    "    print()"
   ]
  },
  {
   "cell_type": "code",
   "execution_count": 30,
   "metadata": {},
   "outputs": [],
   "source": [
    "# median similarity of FoSs of article with the abstract vs \n",
    "# median similarity of FoSs of citations with the abstract"
   ]
  },
  {
   "cell_type": "code",
   "execution_count": 31,
   "metadata": {},
   "outputs": [
    {
     "data": {
      "text/plain": [
       "array([1.0000002 , 0.41696027, 0.19788225, 0.5775031 , 0.25437605,\n",
       "       0.20546761, 0.5663028 , 0.28462332, 0.13357906, 0.44763976,\n",
       "       0.6573779 , 0.39607766, 0.17420861, 0.17667301, 0.13414928],\n",
       "      dtype=float32)"
      ]
     },
     "execution_count": 31,
     "metadata": {},
     "output_type": "execute_result"
    }
   ],
   "source": [
    "row"
   ]
  },
  {
   "cell_type": "code",
   "execution_count": null,
   "metadata": {},
   "outputs": [],
   "source": []
  }
 ],
 "metadata": {
  "kernelspec": {
   "display_name": "Python [conda env:py37tf]",
   "language": "python",
   "name": "conda-env-py37tf-py"
  },
  "language_info": {
   "codemirror_mode": {
    "name": "ipython",
    "version": 3
   },
   "file_extension": ".py",
   "mimetype": "text/x-python",
   "name": "python",
   "nbconvert_exporter": "python",
   "pygments_lexer": "ipython3",
   "version": "3.7.7"
  }
 },
 "nbformat": 4,
 "nbformat_minor": 2
}
