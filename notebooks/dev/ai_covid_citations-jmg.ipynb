{
 "cells": [
  {
   "cell_type": "code",
   "execution_count": 1,
   "metadata": {},
   "outputs": [
    {
     "name": "stdout",
     "output_type": "stream",
     "text": [
      "The autoreload extension is already loaded. To reload it, use:\n",
      "  %reload_ext autoreload\n"
     ]
    }
   ],
   "source": [
    "%run ../notebook_preamble.ipy\n",
    "%load_ext autoreload"
   ]
  },
  {
   "cell_type": "markdown",
   "metadata": {},
   "source": [
    "## 0) Preamble\n",
    "\n",
    "### Set path variables"
   ]
  },
  {
   "cell_type": "code",
   "execution_count": 2,
   "metadata": {},
   "outputs": [],
   "source": [
    "import sys\n",
    "import os\n",
    "import ratelim\n",
    "from dotenv import load_dotenv,find_dotenv\n",
    "\n",
    "PROJECT_PATH = project_dir\n",
    "load_dotenv(find_dotenv())\n",
    "\n",
    "sql_config = os.getenv('config_path')\n",
    "AWS_SUBSCRIPTION_KEY = ''"
   ]
  },
  {
   "cell_type": "markdown",
   "metadata": {},
   "source": [
    "### Imports and load data"
   ]
  },
  {
   "cell_type": "code",
   "execution_count": 3,
   "metadata": {},
   "outputs": [
    {
     "ename": "ModuleNotFoundError",
     "evalue": "No module named 'nesta'",
     "output_type": "error",
     "traceback": [
      "\u001b[0;31m---------------------------------------------------------------------------\u001b[0m",
      "\u001b[0;31mModuleNotFoundError\u001b[0m                       Traceback (most recent call last)",
      "\u001b[0;32m<ipython-input-3-fdbf46019ab6>\u001b[0m in \u001b[0;36m<module>\u001b[0;34m()\u001b[0m\n\u001b[1;32m      9\u001b[0m \u001b[0;32mfrom\u001b[0m \u001b[0mcord19\u001b[0m\u001b[0;34m.\u001b[0m\u001b[0mtransformers\u001b[0m\u001b[0;34m.\u001b[0m\u001b[0mutils\u001b[0m \u001b[0;32mimport\u001b[0m \u001b[0mget_engine\u001b[0m\u001b[0;34m\u001b[0m\u001b[0;34m\u001b[0m\u001b[0m\n\u001b[1;32m     10\u001b[0m \u001b[0;32mfrom\u001b[0m \u001b[0mcord19\u001b[0m\u001b[0;34m.\u001b[0m\u001b[0mtransformers\u001b[0m\u001b[0;34m.\u001b[0m\u001b[0mutils\u001b[0m \u001b[0;32mimport\u001b[0m \u001b[0mcontains_keyword\u001b[0m  \u001b[0;31m# Specifies keywords ('SARS-CoV-2', 'COVID-19', 'coronavirus')\u001b[0m\u001b[0;34m\u001b[0m\u001b[0;34m\u001b[0m\u001b[0m\n\u001b[0;32m---> 11\u001b[0;31m \u001b[0;32mfrom\u001b[0m \u001b[0mnesta\u001b[0m\u001b[0;34m.\u001b[0m\u001b[0mpackages\u001b[0m\u001b[0;34m.\u001b[0m\u001b[0mmag\u001b[0m\u001b[0;34m.\u001b[0m\u001b[0mquery_mag_api\u001b[0m \u001b[0;32mimport\u001b[0m \u001b[0mbuild_expr\u001b[0m\u001b[0;34m\u001b[0m\u001b[0;34m\u001b[0m\u001b[0m\n\u001b[0m\u001b[1;32m     12\u001b[0m \u001b[0;32mfrom\u001b[0m \u001b[0mnesta\u001b[0m\u001b[0;34m.\u001b[0m\u001b[0mpackages\u001b[0m\u001b[0;34m.\u001b[0m\u001b[0mmag\u001b[0m\u001b[0;34m.\u001b[0m\u001b[0mquery_mag_api\u001b[0m \u001b[0;32mimport\u001b[0m \u001b[0mquery_mag_api\u001b[0m\u001b[0;34m\u001b[0m\u001b[0;34m\u001b[0m\u001b[0m\n",
      "\u001b[0;31mModuleNotFoundError\u001b[0m: No module named 'nesta'"
     ]
    }
   ],
   "source": [
    "%matplotlib inline\n",
    "%autoreload 2\n",
    "from matplotlib import pyplot as plt\n",
    "import seaborn as sns\n",
    "import pandas as pd\n",
    "import json\n",
    "import itertools\n",
    "from collections import Counter, defaultdict\n",
    "from cord19.transformers.utils import get_engine\n",
    "from cord19.transformers.utils import contains_keyword  # Specifies keywords ('SARS-CoV-2', 'COVID-19', 'coronavirus')\n",
    "from nesta.packages.mag.query_mag_api import build_expr\n",
    "from nesta.packages.mag.query_mag_api import query_mag_api"
   ]
  },
  {
   "cell_type": "code",
   "execution_count": null,
   "metadata": {},
   "outputs": [],
   "source": [
    "%%time\n",
    "con = get_engine(sql_config)\n",
    "columns = ['id', 'created', 'title', 'abstract', 'mag_id', 'citation_count', 'article_source']\n",
    "chunks = pd.read_sql_table('arxiv_articles', con, columns=columns, chunksize=1000)\n",
    "covid_df = [df.loc[df.abstract.apply(contains_keyword) | df.title.apply(contains_keyword)]\n",
    "            for df in chunks]\n",
    "covid_df = pd.concat(covid_df)"
   ]
  },
  {
   "cell_type": "code",
   "execution_count": null,
   "metadata": {},
   "outputs": [],
   "source": [
    "covid_df.to_csv(f\"{project_dir}/data/processed/covid_df.csv\",index_label=False)"
   ]
  },
  {
   "cell_type": "markdown",
   "metadata": {},
   "source": [
    "### Get MAG IDs for \"covid+AI\" articles"
   ]
  },
  {
   "cell_type": "code",
   "execution_count": null,
   "metadata": {},
   "outputs": [],
   "source": [
    "len(covid_df)"
   ]
  },
  {
   "cell_type": "code",
   "execution_count": null,
   "metadata": {},
   "outputs": [],
   "source": [
    "ai_paper_ids = set(pd.read_csv(f\"{project_dir}/data/raw/ai_research/ai_paper_ids.csv\")['id'])"
   ]
  },
  {
   "cell_type": "code",
   "execution_count": null,
   "metadata": {},
   "outputs": [],
   "source": [
    "#condition = covid_df.id.apply(lambda id: id in ai_paper_ids)\n",
    "#mag_ids = [int(id) for id in covid_df.mag_id.loc[condition] if not pd.isnull(id)]\n",
    "\n",
    "mag_ids = [int(id) for id in covid_df.mag_id if not pd.isnull(id)]"
   ]
  },
  {
   "cell_type": "markdown",
   "metadata": {},
   "source": [
    "## 1) Get citation info from available MAG IDs"
   ]
  },
  {
   "cell_type": "code",
   "execution_count": null,
   "metadata": {},
   "outputs": [],
   "source": [
    "# Get the citation info\n",
    "result_cont = []\n",
    "for expr in build_expr(mag_ids, 'Id'):\n",
    "    \n",
    "    result = query_mag_api(expr, fields=['Id', 'CitCon'], subscription_key=AWS_SUBSCRIPTION_KEY)\n",
    "    \n",
    "    result_cont.append(result)"
   ]
  },
  {
   "cell_type": "code",
   "execution_count": null,
   "metadata": {},
   "outputs": [],
   "source": [
    "all_results = list(itertools.chain(*[x['entities'] for x in result_cont]))"
   ]
  },
  {
   "cell_type": "code",
   "execution_count": null,
   "metadata": {},
   "outputs": [],
   "source": [
    "# Mapping of {citing article id --> [list of citation article ids]}\n",
    "citers = {int(article['Id']): list(article['CitCon'].keys()) \n",
    "          if 'CitCon' in article else [] for article in all_results}\n",
    "\n",
    "# Set of ids of all cited articles\n",
    "citee_ids = set(int(id) for id in itertools.chain.from_iterable(citers.values()))\n",
    "\n",
    "f\"Number of unique citees: {len(citee_ids)}\""
   ]
  },
  {
   "cell_type": "code",
   "execution_count": null,
   "metadata": {},
   "outputs": [],
   "source": [
    "# Get full info for each citation\n",
    "results = []\n",
    "query_count = 1000\n",
    "for expr in build_expr(citee_ids.union(citers), 'Id'):\n",
    "    count, offset = query_count, 0\n",
    "    # Do until no results left\n",
    "    while count == query_count:\n",
    "        _result = query_mag_api(expr, fields=['Id', 'J.JN', 'D', 'DN', 'DOI', 'CC', 'F.FN'], \n",
    "                                subscription_key=AWS_SUBSCRIPTION_KEY, \n",
    "                                offset=offset, query_count=query_count)['entities']      \n",
    "        \n",
    "        count = len(_result)\n",
    "        offset += count\n",
    "        results += _result\n",
    "        \n",
    "# Data quality: check that we returned all of the citation IDs\n",
    "returned_ids = {r['Id'] for r in results}\n",
    "len(citee_ids - returned_ids), len(set(citers) - returned_ids)  # <-- these should be zero!"
   ]
  },
  {
   "cell_type": "markdown",
   "metadata": {},
   "source": [
    "## 2) Save the citation information for later"
   ]
  },
  {
   "cell_type": "code",
   "execution_count": null,
   "metadata": {},
   "outputs": [],
   "source": [
    "# Look up for flattened variable names\n",
    "field_dictionary = {'CC': 'citations', \n",
    "                    'D': 'date',\n",
    "                    'DN': 'title',\n",
    "                    'F': lambda x: {'fields_of_study': [_x['FN'] for _x in x]},\n",
    "                    'Id': 'mag_id',\n",
    "                    'J': lambda x: {'journal_title': x['JN']}}\n",
    "\n",
    "# Mapping of all article ids (both citers and citees) --> flattened article data\n",
    "articles = {}\n",
    "for r in results:\n",
    "    article = {}\n",
    "    # Convert the field names from MAG to something legible\n",
    "    for mag_key, field in field_dictionary.items():\n",
    "        # Ignore this MAG field if the result doesn't have it!\n",
    "        if mag_key not in r:\n",
    "            continue\n",
    "        # If the mapping is str --> value\n",
    "        if type(field) is str:\n",
    "            article[field] = r[mag_key]\n",
    "        # Otherwise assume that the mapping is a lambda function\n",
    "        else:\n",
    "            article.update(field(r[mag_key]))\n",
    "    articles[r['Id']] = article\n",
    "\n",
    "# Mapping of all article ids (both citers and citees) --> flattened article data\n",
    "with open(f'{PROJECT_PATH}/data/processed/ai_research/ai_article_mag_info.json', 'w') as f:\n",
    "    f.write(json.dumps(articles))\n",
    "\n",
    "# Citer ids. Together with `articles` you've got everything you need\n",
    "with open(f'{PROJECT_PATH}/data/processed/ai_research/citation_lookup.json', 'w') as f:\n",
    "    f.write(json.dumps(citers))"
   ]
  },
  {
   "cell_type": "code",
   "execution_count": null,
   "metadata": {},
   "outputs": [],
   "source": []
  }
 ],
 "metadata": {
  "kernelspec": {
   "display_name": "Python [conda env:py36]",
   "language": "python",
   "name": "conda-env-py36-py"
  },
  "language_info": {
   "codemirror_mode": {
    "name": "ipython",
    "version": 3
   },
   "file_extension": ".py",
   "mimetype": "text/x-python",
   "name": "python",
   "nbconvert_exporter": "python",
   "pygments_lexer": "ipython3",
   "version": "3.6.8"
  }
 },
 "nbformat": 4,
 "nbformat_minor": 4
}
