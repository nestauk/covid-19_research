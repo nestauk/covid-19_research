{
 "cells": [
  {
   "cell_type": "markdown",
   "metadata": {},
   "source": [
    "# Machines of healing grace?\n",
    "\n",
    "Code with basic analysis and results from the AI v Covid paper\n",
    "\n",
    "**Sections**\n",
    "\n",
    "1. Descriptive analysis\n",
    "  * How much Covid and AI activity do we detect in our data sources?\n",
    "  * Is AI over or underrepresented in Covid research\n",
    "  * How has AI activity evolved over time?\n",
    "2. Topical analysis\n",
    "  * What is the topical composition of Covid research and in what areas is AI focusing?\n",
    "  * What are some examples of AI research to tackle Covid?\n",
    "  * How has it evolved over time?\n",
    "3. **Geography**\n",
    "  * Where is AI research happening?\n",
    "  * Who is doing it?\n",
    "  * Do we find any differences in the topics that different countries focus on?\n",
    "  * What reflects whether a country focuses on Covid research? Demand pull or supply push?\n",
    "4. Knowledge base\n",
    "  * On what topics do AI researchers draw on?\n",
    "4. Analysis of diffusion\n",
    "  * What determines the focus of AI researchers on particular topics?\n",
    "  * Does Covid oriented-AI research reflect the composition of the broader field? \n",
    "  * What researchers have been attracted to AI research and why?\n",
    "  "
   ]
  },
  {
   "cell_type": "markdown",
   "metadata": {},
   "source": [
    "## Preamble"
   ]
  },
  {
   "cell_type": "code",
   "execution_count": null,
   "metadata": {},
   "outputs": [],
   "source": [
    "%run ../notebook_preamble.ipy"
   ]
  },
  {
   "cell_type": "code",
   "execution_count": null,
   "metadata": {},
   "outputs": [],
   "source": [
    "import altair as alt\n",
    "from altair_saver import save\n",
    "from toolz.curried import *\n",
    "import random\n",
    "import geopandas as gp"
   ]
  },
  {
   "cell_type": "code",
   "execution_count": null,
   "metadata": {},
   "outputs": [],
   "source": [
    "FIG_PATH = f\"{project_dir}/reports/figures/report_1\"\n",
    "SRC_PATH = f\"{project_dir}/data/processed/ai_research\"\n"
   ]
  },
  {
   "cell_type": "code",
   "execution_count": null,
   "metadata": {},
   "outputs": [],
   "source": [
    "pd.options.mode.chained_assignment = None"
   ]
  },
  {
   "cell_type": "code",
   "execution_count": null,
   "metadata": {},
   "outputs": [],
   "source": [
    "def save_fig(figure,name):\n",
    "    save(figure,f'{FIG_PATH}/{name}.png',method='selenium',\n",
    "         webdriver=DRIVER,scale_factor=3)\n",
    "    \n",
    "def preview(x):\n",
    "    print(x.head())\n",
    "    print(x.shape)\n",
    "    return(x)"
   ]
  },
  {
   "cell_type": "markdown",
   "metadata": {},
   "source": [
    "\n",
    "## 1. Read data"
   ]
  },
  {
   "cell_type": "code",
   "execution_count": null,
   "metadata": {},
   "outputs": [],
   "source": [
    "#All arXiv data\n",
    "xiv = pd.read_csv(f\"{SRC_PATH}/xiv_papers_labelled.csv\",dtype={'id':str}).pipe(preview)"
   ]
  },
  {
   "cell_type": "code",
   "execution_count": null,
   "metadata": {},
   "outputs": [],
   "source": [
    "xiv.columns = [x.lower() for x in xiv.columns]"
   ]
  },
  {
   "cell_type": "code",
   "execution_count": null,
   "metadata": {},
   "outputs": [],
   "source": [
    "ai_ids = set(xiv.loc[xiv['is_ai']==True]['id'])"
   ]
  },
  {
   "cell_type": "code",
   "execution_count": null,
   "metadata": {},
   "outputs": [],
   "source": [
    "#Create a cov df\n",
    "\n",
    "cov = xiv.query(\"is_covid == True\").reset_index(drop=True).pipe(preview)"
   ]
  },
  {
   "cell_type": "code",
   "execution_count": null,
   "metadata": {},
   "outputs": [],
   "source": [
    "#All topics\n",
    "tops = pd.read_csv(f\"{SRC_PATH}/tidy_paper_topics_ai_2.csv\",dtype={'article_id':str}).pipe(preview)\n",
    "\n",
    "tops['is_ai'] = [x in ai_ids for x in tops['article_id']]"
   ]
  },
  {
   "cell_type": "code",
   "execution_count": null,
   "metadata": {},
   "outputs": [],
   "source": [
    "#Load the GRID data\n",
    "\n",
    "conf_path = os.getenv('config_path')\n",
    "\n",
    "from data_getters.arxiv_grid import get_arxiv_grid\n",
    "grid = get_arxiv_grid(conf_path, all_articles=True)"
   ]
  },
  {
   "cell_type": "markdown",
   "metadata": {},
   "source": [
    "## 2. Analyse data"
   ]
  },
  {
   "cell_type": "code",
   "execution_count": null,
   "metadata": {},
   "outputs": [],
   "source": [
    "xiv_geo = pd.merge(xiv,grid,left_on='id',right_on='article_id')"
   ]
  },
  {
   "cell_type": "code",
   "execution_count": null,
   "metadata": {},
   "outputs": [],
   "source": [
    "xiv_geo['institute_country'].fillna('Unmatched',inplace=True) "
   ]
  },
  {
   "cell_type": "markdown",
   "metadata": {},
   "source": [
    "### Country frequencies\n",
    "\n",
    "How active in Covid research are different countries?"
   ]
  },
  {
   "cell_type": "code",
   "execution_count": null,
   "metadata": {},
   "outputs": [],
   "source": [
    "country_freqs = xiv_geo['institute_country'].value_counts().rename('all_arxiv')\n"
   ]
  },
  {
   "cell_type": "code",
   "execution_count": null,
   "metadata": {},
   "outputs": [],
   "source": [
    "queries = [\"is_covid == 1\",\"is_ai == 1\",\"(is_covid ==1) & (is_ai ==1)\"]\n",
    "names = ['covid','ai','covid_ai']\n",
    "\n",
    "all_acts = pd.concat([country_freqs,\n",
    "    pd.concat([xiv_geo.query(q)['institute_country'].value_counts(\n",
    "    ).rename(n) for n,q in zip(names,queries)],axis=1)],axis=1).fillna(0)\n",
    "\n",
    "#Top countries\n",
    "top_countries = list(all_acts.sort_values('all_arxiv',ascending=False)[:25].index)"
   ]
  },
  {
   "cell_type": "code",
   "execution_count": null,
   "metadata": {},
   "outputs": [],
   "source": [
    "geo_activity_long_norm = (100*all_acts.apply(lambda x: x/x.sum()).sort_values('all_arxiv',ascending=False)).loc[\n",
    "    top_countries].reset_index(drop=False).melt(id_vars=['index']).pipe(preview)"
   ]
  },
  {
   "cell_type": "code",
   "execution_count": null,
   "metadata": {},
   "outputs": [],
   "source": [
    "#Second component of the chart\n",
    "#Topic representation by country\n",
    "cluster_mapping = tops.drop_duplicates('article_id').set_index('article_id')['cluster'].to_dict()"
   ]
  },
  {
   "cell_type": "code",
   "execution_count": null,
   "metadata": {},
   "outputs": [],
   "source": [
    "cov_geo = xiv_geo.query(\"(is_ai == 1) & (is_covid == 1)\").reset_index(drop=False)\n",
    "\n",
    "cov_geo['cluster'] = cov_geo['id'].map(cluster_mapping)\n",
    "\n",
    "top_ai_clusters = top_ai_clusters = "
   ]
  },
  {
   "cell_type": "code",
   "execution_count": null,
   "metadata": {},
   "outputs": [],
   "source": [
    "top_ai_clusters = tops.drop_duplicates('article_id').groupby(['is_ai','cluster']).size()[True].sort_values(\n",
    "    ascending=False)[:5].index\n",
    "\n",
    "country_cluster = cov_geo.groupby(['institute_country','cluster']).size().reset_index(name='count')\n",
    "country_cluster['cluster_short'] = [x if x in top_ai_clusters else 'Other' for x in country_cluster['cluster']]"
   ]
  },
  {
   "cell_type": "code",
   "execution_count": null,
   "metadata": {},
   "outputs": [],
   "source": [
    "#Chart"
   ]
  },
  {
   "cell_type": "code",
   "execution_count": null,
   "metadata": {},
   "outputs": [],
   "source": [
    "base = alt.Chart(geo_activity_long_norm).encode(\n",
    "    y=alt.Y('index',sort=top_countries,title=''),\n",
    "               x=alt.X('value',title='% of all activity in category'))\n",
    "\n",
    "p = (base.mark_point(filled=True,\n",
    "                 size=100,opacity=0.75,stroke='black',strokeWidth=1)\n",
    "     .encode(\n",
    "         color=alt.Color('variable',title='Category'),\n",
    "         shape=alt.Shape('variable',\n",
    "                         scale=alt.Scale(range=['circle','circle','cross','cross']))))\n",
    "\n",
    "l = (base.mark_line(strokeWidth=0.7,color='black')\n",
    "    .encode(detail='index'))\n",
    "\n",
    "\n",
    "stack = (alt.Chart(country_cluster)\n",
    " .transform_filter(alt.FieldOneOfPredicate('institute_country',top_countries))\n",
    " .mark_bar().encode(y=alt.Y('institute_country',sort=top_countries,title=''),\n",
    "                    x='count',color=alt.Color('cluster_short',title='Topic cluster')))\n",
    "\n",
    "comp = (alt.hconcat((p+l).properties(width=250,height=500),stack.properties(height=500,width=150))\n",
    " .resolve_scale(color='independent',shape='independent'))\n",
    "\n",
    "save_fig(comp,'fig_5_country')\n",
    "\n",
    "comp"
   ]
  },
  {
   "cell_type": "markdown",
   "metadata": {},
   "source": [
    "### Evolution of activity\n",
    "\n"
   ]
  },
  {
   "cell_type": "code",
   "execution_count": null,
   "metadata": {},
   "outputs": [],
   "source": [
    "cov_geo_all = xiv_geo.query(\"is_covid == 1\").reset_index(drop=False)\n",
    "\n",
    "cov_geo_all['date'] = pd.to_datetime(cov_geo_all['created'])"
   ]
  },
  {
   "cell_type": "code",
   "execution_count": null,
   "metadata": {},
   "outputs": [],
   "source": [
    "cov_geo_trend = cov_geo_all.query('year ==2020').groupby(\n",
    "    ['institute_country','is_ai','date']).size().loc[top_countries[:12]].reset_index(name='count')"
   ]
  },
  {
   "cell_type": "code",
   "execution_count": null,
   "metadata": {},
   "outputs": [],
   "source": [
    "tr = alt.Chart(\n",
    "    cov_geo_trend).mark_line(\n",
    "    opacity=0.9).transform_window(\n",
    "    m='mean(count)',frame=[-3,3],groupby=['institute_country','is_ai']).encode(\n",
    "    x='date',y=alt.Y('m:Q',title=['Research','participations']),\n",
    "                     color='is_ai:N',\n",
    "    facet=alt.Facet('institute_country',columns=4,\n",
    "                   sort=alt.EncodingSortField('count','sum',order='descending'))).properties(\n",
    "    width=100,height=85).resolve_scale(y='independent')\n",
    "\n",
    "save_fig(tr,\"fig_6_geo_trend\")\n",
    "\n",
    "tr"
   ]
  },
  {
   "cell_type": "code",
   "execution_count": null,
   "metadata": {},
   "outputs": [],
   "source": [
    "xiv.query('is_ai==1').to_csv(\"/Users/jmateosgarcia/Desktop/arxiv_ai.csv\",compression='zip')"
   ]
  },
  {
   "cell_type": "code",
   "execution_count": null,
   "metadata": {},
   "outputs": [],
   "source": [
    "xiv.columns"
   ]
  },
  {
   "cell_type": "code",
   "execution_count": null,
   "metadata": {},
   "outputs": [],
   "source": []
  }
 ],
 "metadata": {
  "language_info": {
   "name": "python",
   "pygments_lexer": "ipython3"
  }
 },
 "nbformat": 4,
 "nbformat_minor": 4
}
